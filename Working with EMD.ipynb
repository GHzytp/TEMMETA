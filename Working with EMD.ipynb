{
 "cells": [
  {
   "cell_type": "code",
   "execution_count": 18,
   "metadata": {},
   "outputs": [
    {
     "name": "stderr",
     "output_type": "stream",
     "text": [
      "WARNING:hyperspy_gui_traitsui:The module://ipykernel.pylab.backend_inline matplotlib backend is not compatible with the traitsui GUI elements. For more information, read http://hyperspy.readthedocs.io/en/stable/user_guide/getting_started.html#possible-warnings-when-importing-hyperspy.\n",
      "WARNING:hyperspy_gui_traitsui:The traitsui GUI elements are not available.\n"
     ]
    }
   ],
   "source": [
    "import sys\n",
    "import os\n",
    "\n",
    "import h5py\n",
    "import numpy as np\n",
    "import json\n",
    "\n",
    "import numba as nb\n",
    "import hyperspy.api as hs"
   ]
  },
  {
   "cell_type": "code",
   "execution_count": 13,
   "metadata": {},
   "outputs": [],
   "source": [
    "filename = os.path.expanduser(\"~/ownCloud/emdData&Reader/TestData/April2019/1520 EDS-HAADF 20190410.emd\")"
   ]
  },
  {
   "cell_type": "code",
   "execution_count": 12,
   "metadata": {},
   "outputs": [],
   "source": [
    "f = h5py.File(filename, 'r')"
   ]
  },
  {
   "cell_type": "markdown",
   "metadata": {},
   "source": [
    "# Self made parsers"
   ]
  },
  {
   "cell_type": "code",
   "execution_count": null,
   "metadata": {},
   "outputs": [],
   "source": []
  },
  {
   "cell_type": "code",
   "execution_count": 128,
   "metadata": {},
   "outputs": [],
   "source": [
    "def get_meta_dict(f: h5py._hl.files.File, sig: str, det_no: int = 0) -> dict:\n",
    "    \"\"\"\n",
    "    General importing function of EMD metadata. \n",
    "    \n",
    "    Args:\n",
    "        f (h5py._hl.files.File): the HDF5 file opened with h5py.File\n",
    "        typ (str):     Provide signal type (Data subgroup) as a string \n",
    "                       [\"Image\", \"Line\", \"Spectrum\", \"SpectrumImage\", \"Spectrumstream\"]\n",
    "        det_no (int):  The detector number, since they have UUID names. If not provided, turned into 0.\n",
    "    \"\"\"\n",
    "    \n",
    "    #check the input arg types\n",
    "    if not isinstance(f, h5py._hl.files.File):\n",
    "        raise ValueError(\"Invalid type for file argument\")\n",
    "        \n",
    "    if not isinstance(sig, str): \n",
    "        raise ValueError(\"Invalid type for signal argument\")\n",
    "        \n",
    "    if not isinstance(det_no, int):\n",
    "        raise ValueError(\"Invalid type for detector number\")\n",
    "    \n",
    "    meta_dict = None\n",
    "    \n",
    "    try:\n",
    "        imdat = f[\"Data\"][sig]\n",
    "        \n",
    "    except KeyError as kyrr:\n",
    "        #the signal key is invalid\n",
    "        print(\"The \\'{}\\' signal is not present in this file\".format(sig))\n",
    "        \n",
    "    else:\n",
    "        #No exceptions on file and signal key\n",
    "        try:\n",
    "            #read the keys in the signal\n",
    "            dets = list(imdat.keys())\n",
    "            det = dets[det_no]\n",
    "            #does the detector key yield a group?\n",
    "            assert (isinstance(imdat[det], h5py._hl.group.Group)), (\"{} is not \"\n",
    "                \"a valid data group in the \\'{}\\' signal\".format(det, sig))\n",
    "            meta = imdat[det]['Metadata']\n",
    "            meta_array = list(np.trim_zeros(meta[:,0]))\n",
    "            \n",
    "        except AssertionError as assrt:\n",
    "            #invalid detector group\n",
    "            print(assrt)\n",
    "            \n",
    "        except KeyError as kyrr:\n",
    "            #no metadata key found\n",
    "            print(\"There is no metadata in the {} detector for the \\'{}\\' signal\".format(det, sig))\n",
    "            \n",
    "        except IndexError as ixerr:\n",
    "            #invalid detector number\n",
    "            print(\"No detector group associated with key '{}' in the \\'{}\\' signal \"\n",
    "                  \"[valid keys: {}]\".format(det_no, sig, list(range(len(dets)))))\n",
    "            \n",
    "        else:\n",
    "            #map the list of characters to a string and interpret it with json. return the dictionary.\n",
    "            meta_char = list(map(lambda x: chr(x), meta_array))\n",
    "            meta_json = \"\".join(meta_char)\n",
    "            meta_dict = json.loads(meta_json)\n",
    "            \n",
    "    finally:\n",
    "        #none if we ended in exception, otherwise a dictionary\n",
    "        return meta_dict\n",
    "\n",
    "def get_img_meta_dict(f, det_no=0):\n",
    "    return get_meta_dict(f, \"Image\", det_no = det_no)\n",
    "\n",
    "def get_lin_meta_dict(f, det_no=0):\n",
    "    return get_meta_dict(f, \"Line\", det_no = det_no)\n",
    "\n",
    "def get_spec_meta_dict(f, det_no=0):\n",
    "    return get_meta_dict(f, \"Spectrum\", det_no = det_no)\n",
    "\n",
    "def get_specimg_meta_dict(f, det_no=0):\n",
    "    return get_meta_dict(f, \"SpectrumImage\", det_no = det_no)\n",
    "\n",
    "def get_specstr_meta_dict(f, det_no=0):\n",
    "    return get_meta_dict(f, \"SpectrumStream\", det_no = det_no)\n",
    "\n",
    "def get_pretty_meta_str(meta_dict: dict)->str:\n",
    "    return json.dumps(meta_dict, indent=4, sort_keys=True)\n",
    "\n",
    "def print_pretty(meta_dict: dict):\n",
    "    print(get_pretty_meta_str(meta_dict))\n",
    "\n",
    "def write_meta_json(filename, meta_dict):\n",
    "    with open(filename, \"w\") as f:\n",
    "        f.write(get_pretty_meta_str(meta_dict))\n",
    "        \n"
   ]
  },
  {
   "cell_type": "code",
   "execution_count": null,
   "metadata": {},
   "outputs": [],
   "source": []
  },
  {
   "cell_type": "code",
   "execution_count": 141,
   "metadata": {},
   "outputs": [],
   "source": [
    "meta_test = get_meta_dict(f, \"Image\", det_no=0)\n",
    "meta_test2 = get_meta_dict(f, \"Image\", det_no=2)"
   ]
  },
  {
   "cell_type": "code",
   "execution_count": null,
   "metadata": {},
   "outputs": [],
   "source": []
  },
  {
   "cell_type": "code",
   "execution_count": null,
   "metadata": {},
   "outputs": [],
   "source": []
  },
  {
   "cell_type": "markdown",
   "metadata": {},
   "source": [
    "# Hyperspy parsers"
   ]
  },
  {
   "cell_type": "code",
   "execution_count": 20,
   "metadata": {},
   "outputs": [
    {
     "name": "stderr",
     "output_type": "stream",
     "text": [
      "WARNING:hyperspy.io_plugins.emd:The file contains only one spectrum stream\n"
     ]
    }
   ],
   "source": [
    "fhs = hs.load(filename)"
   ]
  },
  {
   "cell_type": "code",
   "execution_count": 146,
   "metadata": {},
   "outputs": [
    {
     "data": {
      "text/plain": [
       "[<EDSTEMSpectrum, title: EDS, dimensions: (|4096)>,\n",
       " <Signal2D, title: Al, dimensions: (|512, 512)>,\n",
       " <Signal2D, title: Ti, dimensions: (|512, 512)>,\n",
       " <Signal2D, title: HAADF, dimensions: (|512, 512)>,\n",
       " <Signal2D, title: N, dimensions: (|512, 512)>,\n",
       " <EDSTEMSpectrum, title: EDS, dimensions: (512, 512|4096)>]"
      ]
     },
     "execution_count": 146,
     "metadata": {},
     "output_type": "execute_result"
    }
   ],
   "source": [
    "fhs"
   ]
  },
  {
   "cell_type": "code",
   "execution_count": 145,
   "metadata": {},
   "outputs": [
    {
     "data": {
      "text/plain": [
       "├── Acquisition_instrument\n",
       "│   └── TEM\n",
       "│       ├── Detector\n",
       "│       │   └── EDS\n",
       "│       │       ├── azimuth_angle = 0.0\n",
       "│       │       ├── elevation_angle = 35.0\n",
       "│       │       └── energy_resolution_MnKa = 130.0\n",
       "│       ├── Stage\n",
       "│       │   ├── tilt_alpha = 0.595\n",
       "│       │   ├── tilt_beta = 5.885\n",
       "│       │   ├── x = 6.1e-05\n",
       "│       │   ├── y = 8.5e-05\n",
       "│       │   └── z = -0.000153\n",
       "│       ├── beam_energy = 300.0\n",
       "│       ├── camera_length = 77.0\n",
       "│       ├── magnification = 5100000.0\n",
       "│       └── microscope = Titan\n",
       "├── General\n",
       "│   ├── date = 2019-04-10\n",
       "│   ├── original_filename = 1520 EDS-HAADF 20190410.emd\n",
       "│   ├── time = 15:20:25\n",
       "│   ├── time_zone = CET\n",
       "│   └── title = EDS\n",
       "├── Sample\n",
       "│   └── elements = ['N', 'Al', 'Ti']\n",
       "└── Signal\n",
       "    ├── binned = True\n",
       "    └── signal_type = EDS_TEM"
      ]
     },
     "execution_count": 145,
     "metadata": {},
     "output_type": "execute_result"
    }
   ],
   "source": [
    "#hyperspy interpreted metadata\n",
    "fhs[0].metadata"
   ]
  },
  {
   "cell_type": "code",
   "execution_count": 151,
   "metadata": {},
   "outputs": [
    {
     "data": {
      "text/plain": [
       "├── Acquisition_instrument\n",
       "│   └── TEM\n",
       "│       ├── Detector\n",
       "│       │   └── EDS\n",
       "│       │       ├── azimuth_angle = 0.0\n",
       "│       │       ├── elevation_angle = 35.0\n",
       "│       │       ├── energy_resolution_MnKa = 130.0\n",
       "│       │       └── number_of_frames = 239\n",
       "│       ├── Stage\n",
       "│       │   ├── tilt_alpha = 0.595\n",
       "│       │   ├── tilt_beta = 5.885\n",
       "│       │   ├── x = 6.1e-05\n",
       "│       │   ├── y = 8.5e-05\n",
       "│       │   └── z = -0.000153\n",
       "│       ├── beam_energy = 300.0\n",
       "│       ├── camera_length = 77.0\n",
       "│       ├── magnification = 5100000.0\n",
       "│       └── microscope = Titan\n",
       "├── General\n",
       "│   ├── date = 2019-04-10\n",
       "│   ├── original_filename = 1520 EDS-HAADF 20190410.emd\n",
       "│   ├── time = 15:20:25\n",
       "│   ├── time_zone = CET\n",
       "│   └── title = EDS\n",
       "├── Sample\n",
       "│   └── elements = ['N', 'Al', 'Ti']\n",
       "└── Signal\n",
       "    ├── binned = True\n",
       "    └── signal_type = EDS_TEM"
      ]
     },
     "execution_count": 151,
     "metadata": {},
     "output_type": "execute_result"
    }
   ],
   "source": [
    "fhs[5].metadata"
   ]
  },
  {
   "cell_type": "code",
   "execution_count": null,
   "metadata": {},
   "outputs": [],
   "source": []
  }
 ],
 "metadata": {
  "kernelspec": {
   "display_name": "Python 3",
   "language": "python",
   "name": "python3"
  },
  "language_info": {
   "codemirror_mode": {
    "name": "ipython",
    "version": 3
   },
   "file_extension": ".py",
   "mimetype": "text/x-python",
   "name": "python",
   "nbconvert_exporter": "python",
   "pygments_lexer": "ipython3",
   "version": "3.7.4"
  }
 },
 "nbformat": 4,
 "nbformat_minor": 2
}
