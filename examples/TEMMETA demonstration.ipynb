{
 "cells": [
  {
   "cell_type": "markdown",
   "metadata": {},
   "source": [
    "# Demonstration of the TEMMETA package"
   ]
  },
  {
   "cell_type": "markdown",
   "metadata": {},
   "source": [
    "## First it's good to import some modules"
   ]
  },
  {
   "cell_type": "code",
   "execution_count": 1,
   "metadata": {},
   "outputs": [],
   "source": [
    "# Since this file is located in TEMMETA/examples, we have to add the parent folder to sys.path to\n",
    "# import our libary\n",
    "import sys\n",
    "sys.path.append(\"..\")\n",
    "# numpy is for working with data arrays\n",
    "import numpy as np\n",
    "# pyplot is for making and manipulating plots\n",
    "import matplotlib.pyplot as plt"
   ]
  },
  {
   "cell_type": "code",
   "execution_count": 2,
   "metadata": {},
   "outputs": [],
   "source": [
    "from importlib import reload"
   ]
  },
  {
   "cell_type": "markdown",
   "metadata": {},
   "source": [
    "## We also set the plotting \"back-end\", this means where the plots will appear.\n",
    "with the back-end \"notebook\" the plots will appear embedded in this notebook. You could also use qt\n",
    "which will make pop-up windows."
   ]
  },
  {
   "cell_type": "code",
   "execution_count": 3,
   "metadata": {},
   "outputs": [],
   "source": [
    "%matplotlib notebook"
   ]
  },
  {
   "cell_type": "markdown",
   "metadata": {},
   "source": [
    "## Here we import the most important TEMMETA modules\n",
    "With data_io (imported here as dio) we can open and extract data objects from EMD files. \n",
    "It's possible that as the project evolves, the names of modules and packages will be changed"
   ]
  },
  {
   "cell_type": "code",
   "execution_count": 4,
   "metadata": {},
   "outputs": [],
   "source": [
    "from basictools import data_io as dio"
   ]
  },
  {
   "cell_type": "code",
   "execution_count": 5,
   "metadata": {},
   "outputs": [],
   "source": [
    "from basictools import metadata as mdt"
   ]
  },
  {
   "cell_type": "code",
   "execution_count": 6,
   "metadata": {},
   "outputs": [],
   "source": [
    "from basictools import image_filters as imf"
   ]
  },
  {
   "cell_type": "code",
   "execution_count": 7,
   "metadata": {},
   "outputs": [],
   "source": [
    "from basictools import plottingtools as pl"
   ]
  },
  {
   "cell_type": "code",
   "execution_count": 8,
   "metadata": {},
   "outputs": [
    {
     "data": {
      "text/plain": [
       "<module 'basictools.image_filters' from '../basictools/image_filters.py'>"
      ]
     },
     "execution_count": 8,
     "metadata": {},
     "output_type": "execute_result"
    }
   ],
   "source": [
    "reload(pl)\n",
    "reload(mdt)\n",
    "reload(dio)\n",
    "reload(imf)"
   ]
  },
  {
   "cell_type": "markdown",
   "metadata": {},
   "source": [
    "I specify the path to a number of EMD files. In the repository that you cloned, these files are not there. \n",
    "If you want to look at the same files, please download them from:\n",
    "\n",
    "* url1\n",
    "* url2\n",
    "\n",
    "Then update the paths to where these files reside"
   ]
  },
  {
   "cell_type": "code",
   "execution_count": 9,
   "metadata": {},
   "outputs": [],
   "source": [
    "emd1_path = \"../examples/data/SuperX-HAADF 1913.emd\"\n",
    "emd2_path = \"../examples/data/88_20_ SI 1511 15.7 Mx EDS-HAADF 20200307.emd\"\n",
    "emd3_path = \"../examples/data/191205-2F/17_ 20191205 1.4 Mx Imaging Ceta 1428.emd\""
   ]
  },
  {
   "cell_type": "markdown",
   "metadata": {},
   "source": [
    "Here we import the first emd file and open it as an h5py File object with some extensions. \n",
    "This will allow us easy access to the datasets."
   ]
  },
  {
   "cell_type": "code",
   "execution_count": 10,
   "metadata": {},
   "outputs": [],
   "source": [
    "emd1 = dio.EMDFile(emd1_path)"
   ]
  },
  {
   "cell_type": "markdown",
   "metadata": {},
   "source": [
    "You can visualize the datasets inside the emd file as in the next cell. This reveals the datasets that can be read in and converted to TEMMETA dataset objects for further processing"
   ]
  },
  {
   "cell_type": "code",
   "execution_count": null,
   "metadata": {},
   "outputs": [],
   "source": [
    "emd1.print_simple_structure()"
   ]
  },
  {
   "cell_type": "markdown",
   "metadata": {},
   "source": [
    "To extract the data from the dataset and create a nice easy object to work with, you need to pass in the dataset type and UUID, which uniquely identifies the dataset. You can get this from the table above. Here we extract the first dataset, representing an image stack. TEMMETA will try its best to recognize what type of dataset it is and create the appropriate one."
   ]
  },
  {
   "cell_type": "code",
   "execution_count": null,
   "metadata": {},
   "outputs": [],
   "source": [
    "stack = emd1.get_dataset(\"Image\", \"6fdbde41eecc4375b45cd86bd2be17c0\")"
   ]
  },
  {
   "cell_type": "markdown",
   "metadata": {},
   "source": [
    "You can see that \"stack\" variable now contains a GeneralImageStack object."
   ]
  },
  {
   "cell_type": "code",
   "execution_count": null,
   "metadata": {},
   "outputs": [],
   "source": [
    "type(stack)"
   ]
  },
  {
   "cell_type": "markdown",
   "metadata": {},
   "source": [
    "TEMMETA also parses the metadata and tries to fill in all things related to the scale and units of the images. It stores all this in a Metadata nested dictionary-type object which can be inspected as in the following cell. The metadata format and names are inspired by the format inside the emd files and tries to keep as much of the information as possible. However we throw away all of the stuff that seems redundant and uninformative, and linked information is better grouped and organized. I also adopted the python convention of using mostly lower case names. Our format contrasts the metadata in Hyperspy, mainly in that the latter throws out a lot of the metadata and only keeps what is relevant to the dataset itself. This metadata format tries to be intuitive to the microscopist (i.e. store a section on the \"illumination\", a section on the \"imaging\", a section on the \"acquisition\"), yet more or less complete from the perspective of experiment reproducibility. "
   ]
  },
  {
   "cell_type": "code",
   "execution_count": null,
   "metadata": {},
   "outputs": [],
   "source": [
    "stack.metadata"
   ]
  },
  {
   "cell_type": "code",
   "execution_count": null,
   "metadata": {},
   "outputs": [],
   "source": [
    "stack.history"
   ]
  },
  {
   "cell_type": "markdown",
   "metadata": {},
   "source": [
    "\n",
    "Currently all \"axis\" information is also stored in the metadata, whereas hyperspy stores this as separate objects in the datasets. This \"data_axis\" information is essential for the correct interpretation and scaling of images and plots. Any type of tampering with this information can make the dataset object stop functioning properly. Currently I envision three types of axes: linear, function and lookup_table. \n",
    "\n",
    "* A linear axis is the easiest and most common: a data \"bin\", like a pixel or a channel, corresponds to a certain macroscopic value in a linear way. So in an image, 1 pixel may have a scale of 1 pm. In a spectrum, a channel may correspond to 1 eV. There could also be a certain offset: the first bin may not correspond to 0.\n",
    "* A function axis is one where the real bin value can be easily expressed in some simple function of the bin index. Only simple operations are supported (\\*,/,+,-,//,%). For example, time axes are added to some datasets to store information about scanning, and these axes are function axes. Currently, these axes remain unused but might see use in the future.\n",
    "* Finally a lookuptable is the most general, whereby an array of values is stored with real values corresponding to each bin. A natural logarithmic axis would have to be stored in this way for example. Currently there are no examples of such axes. If such axes would become more used they will probably have to be stored separately from the metadata mainly to be able to keep the overview. These types of axes will become more useful for compatibility with the USID data format."
   ]
  },
  {
   "cell_type": "markdown",
   "metadata": {},
   "source": [
    "We can write the metadata to a file for later reference. This is done in the JSON format."
   ]
  },
  {
   "cell_type": "code",
   "execution_count": null,
   "metadata": {},
   "outputs": [],
   "source": [
    "stack.metadata.to_file(\"./stack_metadata.json\")"
   ]
  },
  {
   "cell_type": "markdown",
   "metadata": {},
   "source": [
    "You can also access individual attributes with dot-notation or dictionary-access notation. Values that should have a unit are stored as a \"tuple\" with a value and a unit."
   ]
  },
  {
   "cell_type": "code",
   "execution_count": null,
   "metadata": {},
   "outputs": [],
   "source": [
    "print(stack.metadata.acquisition.detector.name)\n",
    "print(stack.metadata[\"acquisition\"][\"detector\"][\"collection_angles\"][\"begin\"])"
   ]
  },
  {
   "cell_type": "markdown",
   "metadata": {},
   "source": [
    "The original metadata present with the respective dataset in the EMD file is also stored in the object. After hyperspy, this is stored in original_metadata"
   ]
  },
  {
   "cell_type": "markdown",
   "metadata": {},
   "source": [
    "Enough about metadata, let's look at the data and manipulation of it. We can create an interactive visualisation of the image stack with the following cell. This allows you to add a scalebar, check the different frames in the stack, and adjust contrast and brightness. I wanted to implement a \"save\" button also which opens up a dialog to save that frame, unfortunately this is not working at the moment, you will have to save frames manually"
   ]
  },
  {
   "cell_type": "code",
   "execution_count": null,
   "metadata": {},
   "outputs": [],
   "source": [
    "stack.plot_interactive()"
   ]
  },
  {
   "cell_type": "markdown",
   "metadata": {},
   "source": [
    "We can select a frame of the stack or we can average all the images"
   ]
  },
  {
   "cell_type": "code",
   "execution_count": null,
   "metadata": {},
   "outputs": [],
   "source": [
    "frame123 = stack.get_frame(123)\n",
    "av = stack.average()"
   ]
  },
  {
   "cell_type": "markdown",
   "metadata": {},
   "source": [
    "These are now individual images, objects that have a different set of tools"
   ]
  },
  {
   "cell_type": "code",
   "execution_count": null,
   "metadata": {},
   "outputs": [],
   "source": [
    "print(type(frame123))\n",
    "print(type(av))"
   ]
  },
  {
   "cell_type": "markdown",
   "metadata": {},
   "source": [
    "## 1. Intensity profiles"
   ]
  },
  {
   "cell_type": "markdown",
   "metadata": {},
   "source": [
    "One of the things you could do with an image dataset is make an intensity profile along a certain line defined by two points. You could first plot the image in an interactive way using `plot_interactive()` and then hover the mouse over where you would like to have the points of your line. The coordinates of the mouse will appear in the lower-right corner. Write these down and use them as coordinates."
   ]
  },
  {
   "cell_type": "code",
   "execution_count": null,
   "metadata": {},
   "outputs": [],
   "source": [
    "ax, im = av.plot(dpi=50)\n",
    "# here we define our line and also add it to the plot for clarity\n",
    "x1, y1 = (35, 101)\n",
    "x2, y2 = (205, 101)\n",
    "ax.arrow(x1, y1, x2-x1, y2-y1, color = (0., 1., 0.), head_width=5)\n",
    "x3, y3 = (204, 200)\n",
    "x4, y4 = (110, 20)\n",
    "ax.arrow(x3, y3, x4-x3, y4-y3, color = (1., 0., 1.), head_width=5)"
   ]
  },
  {
   "cell_type": "markdown",
   "metadata": {},
   "source": [
    "To create the line profile do the following. You could optionally set the w (width of the line in pixels) parameter. Pixels perpendicular to the line are added together. By default w=1. Here we create 4 profiles, also from the one frame so you can see the difference."
   ]
  },
  {
   "cell_type": "code",
   "execution_count": null,
   "metadata": {},
   "outputs": [],
   "source": [
    "# the green arrow in the averaged image\n",
    "profil1 = av.intensity_profile(x1, y1, x2, y2)\n",
    "# the green arrow in the averaged image but with a higher width\n",
    "profil1_b = av.intensity_profile(x1, y1, x2, y2, w=3)\n",
    "# the green arrow in the one frame, will be much more noisy\n",
    "profil1_c = frame123.intensity_profile(x1, y1, x2, y2)\n",
    "# the magenta arrow in the averaged image\n",
    "profil2 = av.intensity_profile(x3, y3, x4, y4)"
   ]
  },
  {
   "cell_type": "markdown",
   "metadata": {},
   "source": [
    "We can plot the profiles with their \"plot\" function. This returns an axis object and a list of plot objects (only one element in this case). You can use the axis to pass it to the plot function of another profile to plot them on the same figure."
   ]
  },
  {
   "cell_type": "code",
   "execution_count": null,
   "metadata": {},
   "outputs": [],
   "source": [
    "# plot returns the axis object \n",
    "ax, prof1 = profil1.plot()\n",
    "_, prof1b = profil1_b.plot(axis=ax)\n",
    "_, prof1c = profil1_c.plot(axis=ax)\n",
    "_, prof2 = profil2.plot(axis=ax)\n",
    "# we can modify the properties of the plots, like give each a label as such\n",
    "prof1[0].set_label(\"Profile 1\")\n",
    "prof1b[0].set_label(\"Profile 1b\")\n",
    "prof1c[0].set_label(\"Profile 1c\")\n",
    "prof2[0].set_label(\"Profile 2\")\n",
    "# then we can autogenerate a legend\n",
    "ax.legend()\n",
    "# some layout optimization\n",
    "ax.figure.tight_layout()"
   ]
  },
  {
   "cell_type": "markdown",
   "metadata": {},
   "source": [
    "If we are not happy with the units, we can change them using `set_scale`. For example, we might prefer units of nm in the plot instead of m. So we will use the current `pixelsize` of the object and multiply by 1e9. We also set the unit to nm. This will change and overwrite the values in the metadata."
   ]
  },
  {
   "cell_type": "code",
   "execution_count": null,
   "metadata": {},
   "outputs": [],
   "source": [
    "profil1.set_scale(profil1.pixelsize*1e9, \"nm\")"
   ]
  },
  {
   "cell_type": "markdown",
   "metadata": {},
   "source": [
    "Replotting shows that it was effective."
   ]
  },
  {
   "cell_type": "code",
   "execution_count": null,
   "metadata": {},
   "outputs": [],
   "source": [
    "profil1.plot()"
   ]
  },
  {
   "cell_type": "markdown",
   "metadata": {},
   "source": [
    "Again a note on metadata. You can check the metadata of all derivative datasets again with the `metadata` attribute. Any derivative dataset stores the metadata of it's parent inside the `parent_meta` key. The process to arrive at the child dataset is stored in `process`. In this way the complete processing chain is kept inside the dataset metadata, as long as you perform operations on the object itself and not directly on the data. For the profile, we have a chain of two parents. The `original_metadata` in the measured dataset is no longer stored in derivative datasets.\n",
    "\n",
    "With this philosophy of traceability, any time an operation is performed on a dataset, it will create and return a new object. The data from parent objects is not overwritten. If you want to keep using the same variable and perform operations on an object in place, most functions have the `inplace` argument which is `False` by default. If you set this to true, `data` and `metadata` will be updated, but the metadata will also show the operation-chain."
   ]
  },
  {
   "cell_type": "code",
   "execution_count": null,
   "metadata": {},
   "outputs": [],
   "source": [
    "print(profil1.metadata.process)\n",
    "print(profil1.metadata.parent_meta.process)"
   ]
  },
  {
   "cell_type": "markdown",
   "metadata": {},
   "source": [
    "Finally the intensity profile can be exported to an excel or a hyperspy dataset. Hyperspy takes a long time to load into memory so it is only loaded into memory once an export needs to take place. A filename can be optionally provided to save the object to a hyperspy file. A hyperspy file is also a hdf5 file, with a much more logical structure than Velox EMD files. You can import the file again later and continue working on it with hyperspy. All metadata related to the acquisition however is not stored in the hyperspy dataset."
   ]
  },
  {
   "cell_type": "code",
   "execution_count": null,
   "metadata": {},
   "outputs": [],
   "source": [
    "profil1.to_excel(\"profile1.xlsx\")"
   ]
  },
  {
   "cell_type": "code",
   "execution_count": null,
   "metadata": {},
   "outputs": [],
   "source": [
    "profil1_hs = profil1.to_hspy(\"profile1\")"
   ]
  },
  {
   "cell_type": "code",
   "execution_count": null,
   "metadata": {},
   "outputs": [],
   "source": [
    "type(profil1_hs)"
   ]
  },
  {
   "cell_type": "markdown",
   "metadata": {},
   "source": [
    "## 2. GeneralImages"
   ]
  },
  {
   "cell_type": "markdown",
   "metadata": {},
   "source": [
    "### 2.1 Plotting, basic filtering, basic operations and exporting"
   ]
  },
  {
   "cell_type": "markdown",
   "metadata": {},
   "source": [
    "Images are of course the bread and butter of microscopy. Here I try to show some of the things you can do with the `GeneralImage` class. Intensity line profiles were already demonstrated before. We continue working on our averaged image calculated from the stack.\n",
    "\n",
    "The main thing you will want to do with images is visualize them, apply filters, measure distances and angles, calculate Fourrier transforms, etc. For a quick look, we can also plot images with some interactive sliders. The sliders can at times be buggy which is an issue with matplotlib widgets."
   ]
  },
  {
   "cell_type": "code",
   "execution_count": null,
   "metadata": {},
   "outputs": [],
   "source": [
    "av.plot_interactive()"
   ]
  },
  {
   "cell_type": "markdown",
   "metadata": {},
   "source": [
    "First we will also change the scale from m to nm on the image for convenience. While the scalebar is smart, for all kinds of measurements nm units will be more convenient. In addition, derived datasets, such as line profiles will also use the same units. \n",
    "\n",
    "*Note*: call this cell only once. If you call it twice then it will look again what the current pixelsize is and again multiply by 1e9."
   ]
  },
  {
   "cell_type": "code",
   "execution_count": null,
   "metadata": {},
   "outputs": [],
   "source": [
    "av.set_scale(av.pixelsize*1e9, \"nm\")"
   ]
  },
  {
   "cell_type": "markdown",
   "metadata": {},
   "source": [
    "You can verify that it worked by checking the dimensions. this gives the size of the image in real units in a 4-tuple"
   ]
  },
  {
   "cell_type": "code",
   "execution_count": null,
   "metadata": {},
   "outputs": [],
   "source": [
    "av.dimensions"
   ]
  },
  {
   "cell_type": "markdown",
   "metadata": {},
   "source": [
    "Visualisation happens mainly through the plot command, it has innumerable options but they are a bit hidden. The main direct keyword arguments are `width` which determines the plot size on the screen (the scalebar is not scaled with the image size), `scalebar` which you set to `True` (default) or `False` to add a scalebar, `show_fig` (T/F) to show the figure or not (if it's only for export), `filename` (optional) for when you directly want to write out the plot to a file. You can pass arguments to the scalebar via `sb_settings` which accepts a dictionary of settings, while `imshow_kwargs` accepts a dictionary passed to the `imshow` command in pyplot. If you want to modify how the scalebar looks `sb_settings` is very important. Since the Axisimage object is returned, you can still change the settings of the image (like the colormap, the intensity scaling, etc) after you call the plot command.\n",
    "\n",
    "For all the possible `sb_settings`, check out the [documentation of matplotlib-scalebar](https://pypi.org/project/matplotlib-scalebar/)\n",
    "\n",
    "For all the possible `imshow_kwargs`, check out the [documentation on imshow](https://matplotlib.org/3.2.1/api/_as_gen/matplotlib.pyplot.imshow.html)\n",
    "\n",
    "Here I just show one example of a non-standard plot"
   ]
  },
  {
   "cell_type": "code",
   "execution_count": null,
   "metadata": {},
   "outputs": [],
   "source": [
    "scaleset = {\"location\": 'lower right',\n",
    "            \"color\": \"white\",\n",
    "            \"length_fraction\": 0.25,\n",
    "            \"frameon\": True,\n",
    "            \"box_color\": \"black\",\n",
    "            \"font_properties\": {\"size\": 14, \"weight\": \"bold\"}}\n",
    "imgset = {\"cmap\": \"jet\", \"vmin\": 2e4, \"vmax\": 5e4}\n",
    "ax, im = av.plot(width = 10, sb_settings = scaleset, imshow_kwargs = imgset)"
   ]
  },
  {
   "cell_type": "markdown",
   "metadata": {},
   "source": [
    "You could always change the `imshow` properties by accessing the Axesimage object stored in `im`. Check the documentation for the available methods or check stackexchange for specific questions you might have.\n",
    "\n",
    "You can also access the figure itself through `ax.figure`. We will then save this to a file"
   ]
  },
  {
   "cell_type": "code",
   "execution_count": null,
   "metadata": {},
   "outputs": [],
   "source": [
    "ax.figure.savefig(\"colorful.tiff\")"
   ]
  },
  {
   "cell_type": "markdown",
   "metadata": {},
   "source": [
    "We can apply functions to an image to change it into another image. Any function that takes in an a 2D image and outputs another 2D image could be considered a `filter`. You could write your own filters (currently there aren't so many implemented), and then you can use it with the `apply_filter` command. Inside, you provide the filter function as first argument and then all the arguments and keyword arguments that the filter might need. Output is another image object. \n",
    "\n",
    "Note that the function will always warn you that scales and units of the image may become incorrect, for example if the image is stretched or rebinned. By default the same pixelsize is kept, it is up to the user to evaluate whether the scale of the image should be updated."
   ]
  },
  {
   "cell_type": "code",
   "execution_count": null,
   "metadata": {},
   "outputs": [],
   "source": [
    "gaussfilt = av.apply_filter(imf.gauss_filter, ks=10, sig=5, cval = av.data.mean())\n",
    "medfilt = av.apply_filter(imf.med_filter)\n",
    "butterfilt = av.apply_filter(imf.bw_filter)"
   ]
  },
  {
   "cell_type": "markdown",
   "metadata": {},
   "source": [
    "We can use the same settings as before to plot some these images, for example the butterworth filtered image"
   ]
  },
  {
   "cell_type": "code",
   "execution_count": null,
   "metadata": {},
   "outputs": [],
   "source": [
    "butterfilt.plot(width = 10, sb_settings = scaleset, imshow_kwargs = imgset)"
   ]
  },
  {
   "cell_type": "markdown",
   "metadata": {},
   "source": [
    "A few \"filters\" have been implemented as shorthand methods in the GeneralImage class already. These are currently:\n",
    "\n",
    "* crop\n",
    "* rebin\n",
    "* linscale\n",
    "\n",
    "Calling these methods, especially rebin, will automatically update the scale. You can add a cell and check with plotting that these functions worked"
   ]
  },
  {
   "cell_type": "code",
   "execution_count": null,
   "metadata": {},
   "outputs": [],
   "source": [
    "av_crop = av.crop(78, 72, 121, 171)\n",
    "av_rebin = av.rebin(factor = 2)\n",
    "av_linscale = av.linscale(min=2e4, max=5e4)"
   ]
  },
  {
   "cell_type": "markdown",
   "metadata": {},
   "source": [
    "How do you know which values to take for minimum and maximum in linear scaling of the intensity? One way is using the `plot_interactive` sliders to determine good thresholds. Another is to check the histogram of the image. This is easily done with `plot_histogram`. With this you can check where the bulk of the intensity is located and adjust the scale accordingly."
   ]
  },
  {
   "cell_type": "code",
   "execution_count": null,
   "metadata": {},
   "outputs": [],
   "source": [
    "av.plot_histogram()"
   ]
  },
  {
   "cell_type": "markdown",
   "metadata": {},
   "source": [
    "You can also add, subtract and multiply images (element-wise) that are of the same size and scale. This is simply done with the \\+, \\- and \\* operators. However, it is important to be aware of over/underflow issues: if the image has the data type uint16, it can store values between 0 and 65535. If two images are added and a pixel exceeds 65535, the value will loop back around to 0. To avoid issues like this, you can convert the data type of the image. Usually float is safe.\n",
    "\n",
    "**Changing the dtype is an in-place operation! If you change the dtype to something \"lower\" like uint8 which causes overflow errors, changing back to uint16 will not retrieve the original values!**"
   ]
  },
  {
   "cell_type": "code",
   "execution_count": null,
   "metadata": {},
   "outputs": [],
   "source": [
    "av_linscale.change_dtype(float)"
   ]
  },
  {
   "cell_type": "markdown",
   "metadata": {},
   "source": [
    "We demonstrate here a few random operations, which in truth don't make that much sense."
   ]
  },
  {
   "cell_type": "code",
   "execution_count": null,
   "metadata": {},
   "outputs": [],
   "source": [
    "av_added = av_linscale + av_linscale"
   ]
  },
  {
   "cell_type": "code",
   "execution_count": null,
   "metadata": {},
   "outputs": [],
   "source": [
    "av_subtract = av_added - av_linscale"
   ]
  },
  {
   "cell_type": "code",
   "execution_count": null,
   "metadata": {},
   "outputs": [],
   "source": [
    "av_multiply = av_subtract*av_added"
   ]
  },
  {
   "cell_type": "code",
   "execution_count": null,
   "metadata": {},
   "outputs": [],
   "source": [
    "av_multiply.plot()"
   ]
  },
  {
   "cell_type": "markdown",
   "metadata": {},
   "source": [
    "The metadata now becomes completely unreadable. This is because TEMMETA will try to keep all the metadata about all the images in nested structures. When you add images together, the resulting image is the child of two images, so TEMMETA will store all the info about both images in the child."
   ]
  },
  {
   "cell_type": "code",
   "execution_count": null,
   "metadata": {},
   "outputs": [],
   "source": [
    "av_multiply.metadata"
   ]
  },
  {
   "cell_type": "markdown",
   "metadata": {},
   "source": [
    "The best way to visualize what has happened to the image is using the `history` attribute. This can be used on any TEMMETA dataset. When the dataset derives from multiple images you will see a tree structure, with the most recent operations at the top, including all operations on all parents in different branches. You can verify that this tree corresponds to our operations higher up"
   ]
  },
  {
   "cell_type": "code",
   "execution_count": null,
   "metadata": {},
   "outputs": [],
   "source": [
    "av_multiply.history"
   ]
  },
  {
   "cell_type": "markdown",
   "metadata": {},
   "source": [
    "Finally, we can also export our images to png, tiff, and hyperspy. With the `save` command, the image is by default exported as an 8-bit png. However, you can add options `min`, `max` and `dtype` to change this behavior, checkout `help(av.save)` for this. There is no scalebar applied. \n",
    "\n",
    "For exporting as tiff (by default with the same datatype as stored in the original dataset), we use the plot command as seen before, and export the plot by providing the `filename` argument. \n",
    "\n",
    "For creating a hyperspy dataset, we follow the same example as before."
   ]
  },
  {
   "cell_type": "code",
   "execution_count": null,
   "metadata": {},
   "outputs": [],
   "source": [
    "av.save(\"average.png\")"
   ]
  },
  {
   "cell_type": "code",
   "execution_count": null,
   "metadata": {},
   "outputs": [],
   "source": [
    "av.to_hspy(\"average\")"
   ]
  },
  {
   "cell_type": "markdown",
   "metadata": {},
   "source": [
    "We can import files again with `import_file_to_image`. The function will also look for a file ending in `x_meta.json` in the same folder, with `x` the name of the image file. Normally this is automatically written out when you plot or save an image."
   ]
  },
  {
   "cell_type": "code",
   "execution_count": null,
   "metadata": {},
   "outputs": [],
   "source": [
    "av_import = dio.import_file_to_image(\"average.png\")"
   ]
  },
  {
   "cell_type": "markdown",
   "metadata": {},
   "source": [
    "### 2.2 FFT based operations"
   ]
  },
  {
   "cell_type": "markdown",
   "metadata": {},
   "source": [
    "We can calculate the fast fourrier transform of images as long as they are square. You can actually calculate an FFT of an image of any size, but a non-square one is not so intuitive to interpret, so we don't allow it in TEMMETA. We can do a number of things on the FFT, mainly extracting fourrier components by masking and calculating the inverse fourrier transform. We can also calculate strain with GPA. These operations are demonstrated here on an HRTEM image dataset. We first import the emd file and extract the dataset"
   ]
  },
  {
   "cell_type": "code",
   "execution_count": null,
   "metadata": {},
   "outputs": [],
   "source": [
    "emd3 = dio.EMDFile(emd3_path)"
   ]
  },
  {
   "cell_type": "code",
   "execution_count": null,
   "metadata": {},
   "outputs": [],
   "source": [
    "emd3.print_simple_structure()"
   ]
  },
  {
   "cell_type": "code",
   "execution_count": null,
   "metadata": {},
   "outputs": [],
   "source": [
    "hrtemimg = emd3.get_dataset(\"Image\", \"7c3929705ae04354b656fb2f929a1cfa\")"
   ]
  },
  {
   "cell_type": "code",
   "execution_count": null,
   "metadata": {},
   "outputs": [],
   "source": [
    "hrtemimg.plot_interactive()"
   ]
  },
  {
   "cell_type": "markdown",
   "metadata": {},
   "source": [
    "Scales are again in meters so we set it to nm"
   ]
  },
  {
   "cell_type": "code",
   "execution_count": null,
   "metadata": {},
   "outputs": [],
   "source": [
    "hrtemimg.set_scale(hrtemimg.pixelsize*1e9, \"nm\")"
   ]
  },
  {
   "cell_type": "markdown",
   "metadata": {},
   "source": [
    "We access the fft with"
   ]
  },
  {
   "cell_type": "code",
   "execution_count": null,
   "metadata": {},
   "outputs": [],
   "source": [
    "fft = hrtemimg.fft"
   ]
  },
  {
   "cell_type": "markdown",
   "metadata": {},
   "source": [
    "For quick visualisation of the FFT and for things like coordinate selection for creating masks, there is the plot function. Note however that an FFT is complex valued so what is actually plot is a power spectrum on a log scale. The function will warn you of this. For optimizing the image of the FFT in case you want to write this out, make an image from the real or imaginary component, or from the argument or phase."
   ]
  },
  {
   "cell_type": "code",
   "execution_count": null,
   "metadata": {},
   "outputs": [],
   "source": [
    "ax, im = fft.plot()\n",
    "im.set_clim(0.7, 1)"
   ]
  },
  {
   "cell_type": "markdown",
   "metadata": {},
   "source": [
    "For example, I might want this same image but without a scale bar, with some modified intesity scaling, and with a different colormap. Below is an example. In the first cell we extract the power spectrum (log scaled), then we apply a median filter, then we plot with a few additional parameters"
   ]
  },
  {
   "cell_type": "code",
   "execution_count": null,
   "metadata": {},
   "outputs": [],
   "source": [
    "ps = fft.power_spectrum"
   ]
  },
  {
   "cell_type": "code",
   "execution_count": null,
   "metadata": {},
   "outputs": [],
   "source": [
    "psf = ps.apply_filter(imf.med_filter)"
   ]
  },
  {
   "cell_type": "code",
   "execution_count": null,
   "metadata": {},
   "outputs": [],
   "source": [
    "msize = 800 # some variable for the window size\n",
    "ax, im = psf.plot(scale_bar=False, width=20, imshow_kwargs={\"cmap\": \"hot\", \"vmin\": 100, \"vmax\": 150})\n",
    "ax.set_xlim(ps.width//2-msize//2, ps.width//2+msize//2)\n",
    "# note that to keep the same orientation as the image, we have to go from positive to negative on the y-axis\n",
    "# This is because when plotting images, the y-axis points from the top left corner downwards.\n",
    "ax.set_ylim(ps.height//2+msize//2, ps.height//2-msize//2)"
   ]
  },
  {
   "cell_type": "markdown",
   "metadata": {},
   "source": [
    "Saving this figure"
   ]
  },
  {
   "cell_type": "code",
   "execution_count": null,
   "metadata": {},
   "outputs": [],
   "source": [
    "ax.figure.savefig(\"fft.png\")"
   ]
  },
  {
   "cell_type": "markdown",
   "metadata": {},
   "source": [
    "So much for visualizing and plotting the fft.\n",
    "\n",
    "Now we will try to do some more operations on the FFT stored in `fft`. You can measure distances and angles on the FFT like in images beforehand. There is a small difference, in that if you provide only one point, it will automatically take the central spot as the second point. You can see this in the following cell"
   ]
  },
  {
   "cell_type": "code",
   "execution_count": null,
   "metadata": {},
   "outputs": [],
   "source": [
    "print(fft.measure(2151, 2140))\n",
    "print(fft.measure(fft.width/2, fft.height/2, 2151, 2140))"
   ]
  },
  {
   "cell_type": "markdown",
   "metadata": {},
   "source": [
    "We can get an ifft from the FFT via `ifft`. If we get the ifft from our fft without processing we retrieve our original image.\n",
    "\n",
    "*Note: The IFFT is also a complex valued array in general. If the FFT is symmetric over 0 then the IFFT will be real-valued except for small rounding errors. Still, what we actually return as an FFT is the modulus. So if you invert a non-centrosymmetric FFT, the ifft is complex valued. But in this implementation, we always take the modulus to work with and plot a real image.*"
   ]
  },
  {
   "cell_type": "code",
   "execution_count": null,
   "metadata": {},
   "outputs": [],
   "source": [
    "ifft = fft.ifft"
   ]
  },
  {
   "cell_type": "code",
   "execution_count": null,
   "metadata": {},
   "outputs": [],
   "source": [
    "ifft.plot()"
   ]
  },
  {
   "cell_type": "markdown",
   "metadata": {},
   "source": [
    "You should know however that it is not completely the same. Due to the calculations, the values are converted to floating point numbers with decimals. You will see this when you check the `dtype` of the data. Due to various rounding errors there will be a slight but negligible difference between the values in each pixel. "
   ]
  },
  {
   "cell_type": "code",
   "execution_count": null,
   "metadata": {},
   "outputs": [],
   "source": [
    "ifft.data.dtype"
   ]
  },
  {
   "cell_type": "markdown",
   "metadata": {},
   "source": [
    "The metadata will keep track of these operations"
   ]
  },
  {
   "cell_type": "code",
   "execution_count": null,
   "metadata": {},
   "outputs": [],
   "source": [
    "ifft.metadata"
   ]
  },
  {
   "cell_type": "markdown",
   "metadata": {},
   "source": [
    "We will now create some masks for the FFT. This allows us to select/exclude certain spatial frequencies. We can then see the effect on the image with an inverse fourrier transform. A mask is nothing but an array of the same size as the FFT with values between 0 and 1. Multiplying the mask element-wise with the FFT will act as a frequency filter. Any grayscale image of the same size as the FFT can act as a mask. With TEMMETA we provide a wrapper class Mask, which includes a few handy functions for adding elements to it.\n",
    "\n",
    "In TEMMETA, a Mask is initialized as either a positive or a negative mask. A positive mask is where all the elements are intialized as 1. If no features are added, everything passes the filter. Features added are \"black\", so you add features to exclude frequencies from the FFT. A negative mask is initilized at 0 and nothing is passed. Features added are \"white\", so these are made to allow some frequencies through. For high resolution microscopy, negative masks with a few \"holes\" are the most common, so this is the default behavior. If you want to change the default behavior use the argument `negative=False`. You can also always invert a mask with the method `invert()`.\n",
    "\n",
    "We can instantiate a `Mask` object directly from the FFT."
   ]
  },
  {
   "cell_type": "code",
   "execution_count": null,
   "metadata": {},
   "outputs": [],
   "source": [
    "reload(dio)"
   ]
  },
  {
   "cell_type": "code",
   "execution_count": null,
   "metadata": {},
   "outputs": [],
   "source": [
    "m1 = fft.create_mask()"
   ]
  },
  {
   "cell_type": "markdown",
   "metadata": {},
   "source": [
    "We then use the methods of `Mask` to add features to it. Currently implemented are (check their help for details):\n",
    "\n",
    "* **add_circle** adds circles on both sides of the central spot. You can add a circle on only one side with `mirrored=False`.\n",
    "* **add_square** adds squares on both sides of the central spot. Again `mirrored` can be used.\n",
    "* **add_band** adds a pass-band: two concentric circles around the central spot\n",
    "* **add_array1D** adds a row of circles. `mirrored` can be used. The center is not blanked.\n",
    "* **add_array2D** adds a 2D grid of circles over the image determined by 2 basis vectors. If the vectors are co-linear, some unexpected behavior can occur. The center is not blanked.\n",
    "\n",
    "In the case of a negative mask (all is 0), you \"poke holes\" (where value is 1) in it of various shapes. In the case of a positive mask (all is 1), you \"paint features\" (where value is 0) over it. You can also paint features in negative masks or poke holes in positive masks, for example to poke a hole in a painted feature. All these things are illustrated below. "
   ]
  },
  {
   "cell_type": "code",
   "execution_count": null,
   "metadata": {},
   "outputs": [],
   "source": [
    "# some partially overlapping circles which are mirrored\n",
    "m1.add_circle(2107, 1923, 25, edge_blur=5)\n",
    "m1.add_circle(2150, 1923, 25, edge_blur=5)\n",
    "m1.add_circle(2150, 1970, 50, edge_blur=15)\n",
    "# paint a small circle on a previous hole\n",
    "m1.add_circle(2150, 1923, 5, edge_blur=0, negative=True)\n",
    "# a square which is not mirrored\n",
    "m1.add_square(2150, 2142, 20, edge_blur=2, mirrored=False)\n",
    "# a pass-band\n",
    "m1.add_band(20, 50, edge_blur=2)\n",
    "# a 2D array\n",
    "m1.add_array2D(2335, 2124, 1981, 1614, 10, edge_blur=0)"
   ]
  },
  {
   "cell_type": "markdown",
   "metadata": {},
   "source": [
    "Also the history of masks is kept"
   ]
  },
  {
   "cell_type": "code",
   "execution_count": null,
   "metadata": {},
   "outputs": [],
   "source": [
    "m1.history"
   ]
  },
  {
   "cell_type": "markdown",
   "metadata": {},
   "source": [
    "You can visualize the mask directly with `plot`. Use the zoom button to inspect the mask in greater detail."
   ]
  },
  {
   "cell_type": "code",
   "execution_count": null,
   "metadata": {},
   "outputs": [],
   "source": [
    "m1.plot()"
   ]
  },
  {
   "cell_type": "markdown",
   "metadata": {},
   "source": [
    "You can invert the mask to turn it from positive to negative and vice versa"
   ]
  },
  {
   "cell_type": "code",
   "execution_count": null,
   "metadata": {},
   "outputs": [],
   "source": [
    "m1.invert()\n",
    "m1.plot()"
   ]
  },
  {
   "cell_type": "markdown",
   "metadata": {},
   "source": [
    "I hope with this example you see you have a lot of options to designing an appropriate FFT mask. Of course this example is a bit nonsense, so we will create one relevant to our fft with a 3 selected reflections. I measured the (x,y) coordinates on a plot of the fft, then enter them into the function below. I also add the argument `refine=True`, which will optimize the positioning of the feature so it is centered on the maximum intensity pixel."
   ]
  },
  {
   "cell_type": "code",
   "execution_count": null,
   "metadata": {},
   "outputs": [],
   "source": [
    "m2 = fft.create_mask()\n",
    "m2.add_circle(2204, 2012, 15, refine=True)\n",
    "m2.add_circle(2150, 2140, 15, refine=True)\n",
    "m2.add_circle(2108, 1916, 15, refine=True)\n",
    "#m2.add_array2D(2204, 2012, 2147, 2140, 10)"
   ]
  },
  {
   "cell_type": "markdown",
   "metadata": {},
   "source": [
    "I can check the mask on top of the fft with `check_mask` or `check_masked`. The first plots the mask as a partially transparent image over the power spectrum. The second plots the power spectrum if the fft is masked. With the values that are returned from the plot function I can also optimize the plot a bit."
   ]
  },
  {
   "cell_type": "code",
   "execution_count": null,
   "metadata": {},
   "outputs": [],
   "source": [
    "ax, imfft, immask = fft.check_mask(m2)\n",
    "imfft.set_clim(100, 150)"
   ]
  },
  {
   "cell_type": "markdown",
   "metadata": {},
   "source": [
    "When we are happy with our mask we can apply it to the FFT and then take the inverse Fourrier transform"
   ]
  },
  {
   "cell_type": "code",
   "execution_count": null,
   "metadata": {},
   "outputs": [],
   "source": [
    "fft_masked = fft.apply_mask(m2)"
   ]
  },
  {
   "cell_type": "code",
   "execution_count": null,
   "metadata": {},
   "outputs": [],
   "source": [
    "ifft_masked = fft_masked.ifft"
   ]
  },
  {
   "cell_type": "markdown",
   "metadata": {},
   "source": [
    "`ifft_masked` is again an image which we can use for the same kinds of operations as before"
   ]
  },
  {
   "cell_type": "code",
   "execution_count": null,
   "metadata": {},
   "outputs": [],
   "source": [
    "ifft_masked.plot()"
   ]
  },
  {
   "cell_type": "markdown",
   "metadata": {},
   "source": [
    "Once again, the metadata has kept a record of the operations. You will see a similar branched structure as when adding/subtracting multiple images."
   ]
  },
  {
   "cell_type": "code",
   "execution_count": null,
   "metadata": {},
   "outputs": [],
   "source": [
    "ifft_masked.history"
   ]
  },
  {
   "cell_type": "code",
   "execution_count": null,
   "metadata": {},
   "outputs": [],
   "source": [
    "mimg = m2.to_image()\n",
    "mimg.save(\"mask.png\")"
   ]
  },
  {
   "cell_type": "markdown",
   "metadata": {},
   "source": [
    "I also implemented a **very** basic version of geometric phase analysis (GPA) [(Hytch et al., 1998)](doi.org/10.1016/S0304-3991(98)00035-7), which calculates strain maps in HRTEM images. The application is pretty basic: use the method `calc_strains` on the image. You must provide as arguments the coordinates of two spots in the FFT, from which phase images are internally calculated and processed. For the other arguments, check the documentation with `help`. For a large image as this one the calculation can take quite some time, half a minute to a minute or two. \n",
    "\n",
    "The method returns 4 image objects representing different strain components: epsilon_xx, epsilon_yy, epsilon_xy, the components from the symmetric strain matrix, and omega_xy, the off-diagonal element of the antisymmetric term representing rigid rotation. These can be plot and worked with as any other image, see previously. Note also that since this method is based on derivatives of the phase, the output images are 1 pixel less wide and high than the original.\n",
    "\n",
    "An additional argument that can be used is `angle`, which describes the strain tensor in another coordinate system. If your desired x-axis lies 30 degrees with the horizontal for example, `angle=30` and epsilon_xx will represent the tensile/compressive strain in this direction.\n",
    "\n",
    "**The method must still be verified against other implementations and better datasets, don't trust the result yet for your publications**"
   ]
  },
  {
   "cell_type": "markdown",
   "metadata": {},
   "source": [
    "Here a demonstration of how it's supposed to work. we will use a subset of hrtemimg from before. We use crop and to keep it square and a power of two, we add the argument nearest_power=True."
   ]
  },
  {
   "cell_type": "code",
   "execution_count": null,
   "metadata": {},
   "outputs": [],
   "source": [
    "imgcropped = hrtemimg.crop(1809,2077,3300,3381, nearest_power=True)"
   ]
  },
  {
   "cell_type": "code",
   "execution_count": null,
   "metadata": {},
   "outputs": [],
   "source": [
    "imgcropped.plot()"
   ]
  },
  {
   "cell_type": "markdown",
   "metadata": {},
   "source": [
    "We now check the FFT and find the coordinates of spots we want to select"
   ]
  },
  {
   "cell_type": "code",
   "execution_count": null,
   "metadata": {},
   "outputs": [],
   "source": [
    "fft_crop = imgcropped.fft\n",
    "ax, im = fft_crop.plot()\n",
    "im.set_clim(0.7, 1)"
   ]
  },
  {
   "cell_type": "code",
   "execution_count": null,
   "metadata": {},
   "outputs": [],
   "source": [
    "xx1, yy1 = 536, 536\n",
    "xx2, yy2 = 550, 503\n",
    "exx, eyy, exy, oxy = imgcropped.calc_strains(xx1, yy1, xx2, yy2, r=8, edge_blur=5)"
   ]
  },
  {
   "cell_type": "code",
   "execution_count": null,
   "metadata": {},
   "outputs": [],
   "source": [
    "exx.history"
   ]
  },
  {
   "cell_type": "markdown",
   "metadata": {},
   "source": [
    "To make a somewhat more complex plot and put all images on the same figure, I access the data inside these GeneralImage objects directly and use matplotlib. In this way you can check how changing the parameters in the cell above changes the output. The result in general looks pretty crappy, but then again this isn't the best dataset."
   ]
  },
  {
   "cell_type": "code",
   "execution_count": null,
   "metadata": {},
   "outputs": [],
   "source": [
    "fig, axes = plt.subplots(2, 2, figsize = (10,10))\n",
    "(ax1, ax2), (ax3, ax4) = axes\n",
    "\n",
    "kwargs = {\"cmap\": \"hot\", \"vmin\":-0.1, \"vmax\":0.1}\n",
    "# exx\n",
    "ax1.imshow(exx.data, **kwargs)\n",
    "ax1.set_title(r\"$\\epsilon_{xx}$\")\n",
    "ax1.set_axis_off()\n",
    "# eyy\n",
    "ax2.imshow(eyy.data, **kwargs)\n",
    "ax2.set_title(r\"$\\epsilon_{yy}$\")\n",
    "ax2.set_axis_off()\n",
    "# exy\n",
    "ax3.imshow(exy.data, **kwargs)\n",
    "ax3.set_title(r\"$\\epsilon_{xy}$\")\n",
    "ax3.set_axis_off()\n",
    "# oxy\n",
    "ax4.imshow(oxy.data, **kwargs)\n",
    "ax4.set_title(r\"$\\omega_{xy}$\")\n",
    "ax4.set_axis_off()"
   ]
  },
  {
   "cell_type": "markdown",
   "metadata": {},
   "source": [
    "### 2.3 Peak fitting"
   ]
  },
  {
   "cell_type": "markdown",
   "metadata": {},
   "source": [
    "## 3. GeneralImageStack"
   ]
  },
  {
   "cell_type": "markdown",
   "metadata": {},
   "source": [
    "Image stacks arrise mainly due to multiple frames being captured over time. We already showed a little bit of what one can do with a stack. The bulk of the analysis in principle happens in individual images, so you would convert frames or average multiple frames into one image and then work with it. But some operations you might like to do on all the images in the stack. Currently, the options are a bit limited but may expand as more of people's needs come to light."
   ]
  },
  {
   "cell_type": "markdown",
   "metadata": {},
   "source": [
    "### 3.1 Selection of frames, selection of areas, creating images"
   ]
  },
  {
   "cell_type": "markdown",
   "metadata": {},
   "source": [
    "Let's revisit the stack from before stored in `stack`. We can either access individual frames with `get_frame` or we can create new stacks with `select_frames` or `exclude_frames`"
   ]
  },
  {
   "cell_type": "code",
   "execution_count": null,
   "metadata": {},
   "outputs": [],
   "source": [
    "frame203 = stack.get_frame(203)"
   ]
  },
  {
   "cell_type": "code",
   "execution_count": null,
   "metadata": {},
   "outputs": [],
   "source": [
    "frames_select = [1, 3, 5]\n",
    "stack_select = stack.select_frames(frames_select)"
   ]
  },
  {
   "cell_type": "code",
   "execution_count": null,
   "metadata": {},
   "outputs": [],
   "source": [
    "stack_exclude = stack.exclude_frames(frames_select)"
   ]
  },
  {
   "cell_type": "markdown",
   "metadata": {},
   "source": [
    "If you select only one frame the returned object is an image which you can process in the same ways as before. If you select frames, returned is a new stack which you can further process. \n",
    "\n",
    "To select areas you can use the `crop` command, with the same behavior as for images, only that here it is applied to all frames. You could again use the `nearest_power` argument to make sure your selection is a square of size $2^n \\times 2^n$"
   ]
  },
  {
   "cell_type": "code",
   "execution_count": null,
   "metadata": {},
   "outputs": [],
   "source": [
    "stack_cropped = stack.crop(50, 50, 120, 75)"
   ]
  },
  {
   "cell_type": "markdown",
   "metadata": {},
   "source": [
    "### 3.2 Applying filters on all frames"
   ]
  },
  {
   "cell_type": "markdown",
   "metadata": {},
   "source": [
    "The basic filters `linscale` and `rebin` also work on an image stack. There is also `apply_filter` which just loops over all the frames and applies the filter. Some of these operations can be quite slow. There is an option to use multiprocessing to speed up the calculations a bit - don't expect magic though"
   ]
  },
  {
   "cell_type": "code",
   "execution_count": null,
   "metadata": {},
   "outputs": [],
   "source": [
    "stack_linscaled = stack.linscale(1e4, 4e4)"
   ]
  },
  {
   "cell_type": "code",
   "execution_count": null,
   "metadata": {},
   "outputs": [],
   "source": [
    "stack_rebinned = stack.rebin(1.5, multiprocessing=True)"
   ]
  },
  {
   "cell_type": "code",
   "execution_count": null,
   "metadata": {},
   "outputs": [],
   "source": [
    "# here we demonstrate the minor differences between using multiprocessing and not. (key word) args are just\n",
    "# passed directly to the function.\n",
    "\n",
    "from time import time\n",
    "\n",
    "start = time()\n",
    "stack_gausfilter = stack.apply_filter(imf.gauss_filter, multiprocessing=False, sig=5)\n",
    "stop = time()\n",
    "print(f\"{(stop-start)} seconds without multiprocessing\")\n",
    "\n",
    "start = time()\n",
    "stack_gausfilter = stack.apply_filter(imf.gauss_filter, multiprocessing=True, sig=5)\n",
    "stop = time()\n",
    "print(f\"{(stop-start)} seconds with multiprocessing\")"
   ]
  },
  {
   "cell_type": "code",
   "execution_count": null,
   "metadata": {},
   "outputs": [],
   "source": [
    "stack_gausfilter.plot_interactive()"
   ]
  },
  {
   "cell_type": "markdown",
   "metadata": {},
   "source": [
    "### 3.3 Aligning frames"
   ]
  },
  {
   "cell_type": "markdown",
   "metadata": {},
   "source": [
    "Aligning features in different images is a process called *image registration*. If it is assumed the only difference between the images are shifts are rotations, aligning the images is called *rigid registration*. If there are deformations between the images, aligning features in the images requires destoring the images and is a very complex process called *non-rigid-registration*.\n",
    "\n",
    "A very basic rigid registration algorithm (only correcting translations) is implemented in TEMMETA and can be applied on a stack using `calc_misalignment` and `align_frames`. It works by selecting a small square in the images and calculating the cross-correlation between this square and a search area in consecutive images or the first image. The maximum in the cross-correlation may be shifted from the center and this shift is applied on the frames. No deformations in individual frames can be corrected this way! \n",
    "\n",
    "If you require non rigid registration (for example for strain measurements) you may want to look at [`match-series`](https://github.com/berkels/match-series) implemented by Benjamin Berkels. Unfortunately since this code is written in C++ I can't easily integrate it into TEMMETA, so you will have to do a bit more work. I have written [a few scripts](https://github.com/din14970/NRR-emd) which should make it a bit easier to extract the information inside an EMD file, run the non-rigid registration on it. Once the non-rigid registration has been applied you can import the images/spectra again and continue analyzing them with TEMMETA or another tool of your choice like Hyperspy"
   ]
  },
  {
   "cell_type": "markdown",
   "metadata": {},
   "source": [
    "We will re-use the same image stack from before, although these are already pretty well aligned. Aligning periodic images, especially noisy ones like these, can be pretty tough because the cross-correlation can give multiple maxima. First we define a rectangle that we want to \"follow\" - this is given in red. **Don't use the entire image: the cross correlations will take forever to calculate and it will almost certainly not find the optimum**. Then we also define a \"border thickness\", a region in which we will look for the red region."
   ]
  },
  {
   "cell_type": "code",
   "execution_count": null,
   "metadata": {},
   "outputs": [],
   "source": [
    "border = 8\n",
    "rectangle = (75, 30, 105, 65)\n",
    "rectangle2 = [75-border, 30-border, 105+border, 65+border]\n",
    "fig, ax = plt.subplots()\n",
    "ax.imshow(stack.data[0])\n",
    "rx = [rectangle[0], rectangle[2], rectangle[2], rectangle[0], rectangle[0]]\n",
    "ry = [rectangle[1], rectangle[1], rectangle[3], rectangle[3], rectangle[1]]\n",
    "rx2 = [rectangle2[0], rectangle2[2], rectangle2[2], rectangle2[0], rectangle2[0]]\n",
    "ry2 = [rectangle2[1], rectangle2[1], rectangle2[3], rectangle2[3], rectangle2[1]]\n",
    "ax.plot(rx, ry, color=\"red\")\n",
    "ax.plot(rx2, ry2, color=(0, 1, 0))"
   ]
  },
  {
   "cell_type": "markdown",
   "metadata": {},
   "source": [
    "We use `calc_misalignment` to calculate the x and y shifts required to match the red region in all images. We pass the rectangle and border as arguments. In addition, there are 2 ways the method can run: all frames are compared to the first frame (cumulative=False (default)), or all frames are compared to the frame before it and the shifts are added consecutively (cumulative=True). In principle, comparing to the frame just before is better because these images will be most similar. However, errors will accumulate. Since we only have small shifts, we will set this to false. `reg` is for regularisation: maxima further away from the center are penalized and a higher regularization term increases the importance of distance from the center. If `reg`=0, there is no distance penalisation, which we use here. With `debug=True`, we will also return the cross correlations as an image-stack which we can explore for debugging purposes.\n",
    "\n",
    "**For the entire stack, the calculation can take quite a while! The larger the area of interest and the larger the stack, the longer it takes.**"
   ]
  },
  {
   "cell_type": "code",
   "execution_count": null,
   "metadata": {},
   "outputs": [],
   "source": [
    "(shifts, ccx) = stack.calc_misalignment(rectangle=rectangle, border=border, cumulative=False,\n",
    "                                        debug=True, reg=0)"
   ]
  },
  {
   "cell_type": "markdown",
   "metadata": {},
   "source": [
    "You can visualize the cross correlations with `plot_interactive`. In this case the brightest pixel is always more or less in the middle and shifts are almost 0. You can visualize it best by sliding the min slider higher."
   ]
  },
  {
   "cell_type": "code",
   "execution_count": null,
   "metadata": {},
   "outputs": [],
   "source": [
    "ccx.plot_interactive()"
   ]
  },
  {
   "cell_type": "markdown",
   "metadata": {},
   "source": [
    "We can apply the deformations with `align_frames`, simply passing in the shifts calculated before. If no shifts are passed in, it will attempt to calculate the shifts in the same command, however I don't recommend this as you don't control the process as well. I have just cropped the image to the size of the search window for visualisation. You can see that the images still don't feel very aligned; this is mainly due to non-linear distortions which can not be corrected this way."
   ]
  },
  {
   "cell_type": "code",
   "execution_count": null,
   "metadata": {},
   "outputs": [],
   "source": [
    "stack_aligned = stack.align_frames(shifts = shifts)\n",
    "stack_aligned.crop(*rectangle2, inplace=True)"
   ]
  },
  {
   "cell_type": "code",
   "execution_count": null,
   "metadata": {},
   "outputs": [],
   "source": [
    "stack_aligned.plot_interactive()"
   ]
  },
  {
   "cell_type": "markdown",
   "metadata": {},
   "source": [
    "Image registration is an active field of research and I strongly welcome additions/improvements to the stack alignment methods."
   ]
  },
  {
   "cell_type": "markdown",
   "metadata": {},
   "source": [
    "### 3.4 Saving and exporting"
   ]
  },
  {
   "cell_type": "markdown",
   "metadata": {},
   "source": [
    "There are currently three options for exporting images in a stack: export frames directly using `export_frames` (fastest), plot frames with a scalebar and various options using `plot_export_frames` (much slower), and converting and saving to a hyperspy dataset with `to_hspy`\n",
    "\n",
    "First we will define some folder where we will export the images to. The export commands will create the folder if it doesn't exist. This does not happen with to_hspy"
   ]
  },
  {
   "cell_type": "code",
   "execution_count": null,
   "metadata": {},
   "outputs": [],
   "source": [
    "export_folder = \"./Test_stack\""
   ]
  },
  {
   "cell_type": "markdown",
   "metadata": {},
   "source": [
    "`export_frames` is the easiest, just directly saving the raw image to a png with the same dtype as the stored image (unless otherwise specified). It will give you an estimate for the time it took to execute the command"
   ]
  },
  {
   "cell_type": "code",
   "execution_count": null,
   "metadata": {},
   "outputs": [],
   "source": [
    "stack.export_frames(export_folder+\"/simple/\", \"Frame\")"
   ]
  },
  {
   "cell_type": "markdown",
   "metadata": {},
   "source": [
    "For very large stacks, it's possible that multithreading can speed up the export a bit. By default it is turned off but you can turn it on with the option `multithreading`. `counter` indicates how many counter digits are appended to the frame. `name` indicates the filename prefix (the part before the number)"
   ]
  },
  {
   "cell_type": "code",
   "execution_count": null,
   "metadata": {},
   "outputs": [],
   "source": [
    "stack.export_frames(export_folder, name = \"boo\", multithreading=True, counter = 4)"
   ]
  },
  {
   "cell_type": "markdown",
   "metadata": {},
   "source": [
    "If you don't want to export all frames, you can pass a list of frames to export"
   ]
  },
  {
   "cell_type": "code",
   "execution_count": null,
   "metadata": {},
   "outputs": [],
   "source": [
    "stack.export_frames(export_folder, name = \"boo\", counter = 4, frames = [2, 5, 6])"
   ]
  },
  {
   "cell_type": "markdown",
   "metadata": {},
   "source": [
    "If you want to export all the frames with a scalebar or a special color scheme, each one has to be plot and processed. The command works in a similar way but you can add additional arguments passed to `plot_image`, such as settings for the image plot and settings for the scalebar. This command will take a lot longer than just exporting the raw images. For large stacks, `multiprocessing` may give a slight time gain. For small arrays this will not yield time gains, it may even take longer. "
   ]
  },
  {
   "cell_type": "code",
   "execution_count": null,
   "metadata": {},
   "outputs": [],
   "source": [
    "imskw = {\"cmap\": \"jet\", \"vmin\": 2.5e4, \"vmax\": 5e4}\n",
    "scaleset = {\"location\": 'lower right',\n",
    "            \"color\": \"white\",\n",
    "            \"length_fraction\": 0.25,\n",
    "            \"frameon\": True,\n",
    "            \"box_color\": \"black\",\n",
    "            \"font_properties\": {\"size\": 14, \"weight\": \"bold\"}}\n",
    "\n",
    "# frames = [10, 20, 30, 60, 66, 88]\n",
    "frames = None\n",
    "\n",
    "stack.plot_export_frames(export_folder, name=\"plotted\", multiprocessing=True, counter = 4,\n",
    "                         frames = frames, width=10, imshow_kwargs=imskw, sb_settings = scaleset)"
   ]
  },
  {
   "cell_type": "markdown",
   "metadata": {},
   "source": [
    "Finally, you can export your data to a hyperspy dataset which you can continue to process with hyperspy"
   ]
  },
  {
   "cell_type": "code",
   "execution_count": null,
   "metadata": {},
   "outputs": [],
   "source": [
    "stack_hspy = stack.to_hspy(filepath = export_folder+\"/stack_hs\")"
   ]
  },
  {
   "cell_type": "markdown",
   "metadata": {},
   "source": [
    "### 3.5 Creating a stack from images, importing from a folder"
   ]
  },
  {
   "cell_type": "markdown",
   "metadata": {},
   "source": [
    "You might already have a folder with images and wish to re-import them as a stack. Or you might want to stack a list of individual images. These are possible with the `dio.import_files_to_stack` and `dio.images_to_stack`. Note that this operation only makes sense if the images are related via the same scale. \n",
    "\n",
    "With `images_to_stack`, the scale of the first image is adopted as the scale and the metadata is copied. \n",
    "\n",
    "If the images are read from a folder, with `dio.import_files_to_stack`, the files must follow a specific naming convention in order to re-create the stack in the correct order: *somearbitrarynamewithoutspaces_000x.png* or *somearbitrarynamewithoutspaces_x.png* with *x* a number. All images should have the same number of counter digits. It is recommended to not have any other files in the folder except a `metadata.json` file."
   ]
  },
  {
   "cell_type": "code",
   "execution_count": null,
   "metadata": {},
   "outputs": [],
   "source": [
    "stack_import = dio.import_files_to_stack(export_folder+\"/simple/\")"
   ]
  },
  {
   "cell_type": "code",
   "execution_count": null,
   "metadata": {},
   "outputs": [],
   "source": [
    "stack_import.plot_interactive()"
   ]
  },
  {
   "cell_type": "code",
   "execution_count": null,
   "metadata": {},
   "outputs": [],
   "source": [
    "frames = [stack.get_frame(i) for i in [12, 35, 67, 89]]"
   ]
  },
  {
   "cell_type": "code",
   "execution_count": null,
   "metadata": {},
   "outputs": [],
   "source": [
    "restack = dio.images_to_stack(frames)"
   ]
  },
  {
   "cell_type": "code",
   "execution_count": null,
   "metadata": {},
   "outputs": [],
   "source": [
    "restack.plot_interactive()"
   ]
  },
  {
   "cell_type": "markdown",
   "metadata": {},
   "source": [
    "## 4. Working with spectra: the SpectrumStream"
   ]
  },
  {
   "cell_type": "markdown",
   "metadata": {},
   "source": [
    "TEMMETA can at present only read SpectrumStream data from EMD files, that is spectrum maps taken over multiple frames. By adding together the frames, one can obtain a spectrum map dataset. Such a dataset is what you will want to work with most for analysis.\n",
    "\n",
    "Keeping the data in the stream format is convenient for one main reason: data from individual frames can be separated, adding a time component to the dataset. Hence, one can select/exclude frames, or as in the case of image stacks one can align each individual frame before adding together all the data. Rigid and non-rigid registration corrections, calculated from an image stack, can be applied to a spectrum stream, before adding all the frames together.\n",
    "\n",
    "The downside is that Spectrum streams are extremely sparse: most scan positions do not yield any data and so are just 0; it is only by collecting multiple frames that the dataset fills up. Fitting an edx map acquired over an hour for hundreds of frames entirely into memory is very wastefull. Therefore `SpectrumStream` stores its data in a sparse `scipy.spmatrix` matrix form. This matrix has the shape (x\\*y\\*frames, channels), with the rows representing all the individual scan positions and the columns the energy channels. The disadvantage to such a sparse representation is that querrying/slicing/manipulation of the data is not straightforward at all, and without metadata such as the number of frames and scan dimensions the dataset is ambiguous. So spectrum stream data as handled by TEMMETA must always be accompanied by metadata."
   ]
  },
  {
   "cell_type": "markdown",
   "metadata": {},
   "source": [
    "### 4.1 Selection of frames, aligning frames"
   ]
  },
  {
   "cell_type": "markdown",
   "metadata": {},
   "source": [
    "Let's load a `SpectrumStream` into memory. We again use the `get_dataset` command to load in a SpectrumStream this time (see beginning of this file). You can verify that this object will be of the type `SpectrumStream`.\n",
    "\n",
    "You may get a warning that there is no `FrameLocationTable`. Datasets with newer versions of Velox include a long array stating at which index in stream each frame begint. In older datasets this is not the case. If there is no FrameLocationTable, a limited number of functions does not work, and the number of frames must be infered from looking at other datasets in the file. However it has no further bearing on working with the dataset"
   ]
  },
  {
   "cell_type": "code",
   "execution_count": 11,
   "metadata": {},
   "outputs": [
    {
     "name": "stderr",
     "output_type": "stream",
     "text": [
      "No FrameLocationTable found in f5a4ba0965a5444b8c46cc420cf7fef0\n"
     ]
    }
   ],
   "source": [
    "specstr = emd1.get_dataset(\"SpectrumStream\", \"f5a4ba0965a5444b8c46cc420cf7fef0\")"
   ]
  },
  {
   "cell_type": "markdown",
   "metadata": {},
   "source": [
    "You cah check the type of the data stored in `specstr`"
   ]
  },
  {
   "cell_type": "code",
   "execution_count": null,
   "metadata": {},
   "outputs": [],
   "source": [
    "specstr.data"
   ]
  },
  {
   "cell_type": "markdown",
   "metadata": {},
   "source": [
    "You can querry an individual frame and this will be converted to `SpectrumMap` object; this will store a full 3D matrix representation. Because only 1 frame has been selected, it will most likely be very empty and you will likely rarely use this command"
   ]
  },
  {
   "cell_type": "code",
   "execution_count": null,
   "metadata": {},
   "outputs": [],
   "source": [
    "frm123 = specstr.get_frame(123)\n",
    "type(frm123)"
   ]
  },
  {
   "cell_type": "markdown",
   "metadata": {},
   "source": [
    "Alternatively, you can create new `SpectrumStream` objects with `select_frames` and `exclude_frames`. If something happened during the acquisition that you want to select (or neglect) then you should consider these functions."
   ]
  },
  {
   "cell_type": "code",
   "execution_count": null,
   "metadata": {},
   "outputs": [],
   "source": [
    "print(f\"Number of frames in original: {specstr.frames}\")\n",
    "frams = [2, 4, 56]\n",
    "spec_select = specstr.select_frames(frams)\n",
    "print(f\"Number of frames in spec_select: {spec_select.frames}\")\n",
    "spec_excl = specstr.exclude_frames(frams)\n",
    "print(f\"Number of frames in spec_excl: {spec_excl.frames}\")"
   ]
  },
  {
   "cell_type": "code",
   "execution_count": null,
   "metadata": {},
   "outputs": [],
   "source": [
    "# Aligning frames"
   ]
  },
  {
   "cell_type": "markdown",
   "metadata": {},
   "source": [
    "### 4.2 Exporting and importing frames"
   ]
  },
  {
   "cell_type": "markdown",
   "metadata": {},
   "source": [
    "You can export the `SpectrumStream` in two ways: exporting the individual frames as individual sparse matrix files in a folder, or as one sparse matrix file. The resulting files can not be read by other programs, they mainly serve to be shared with others. Along with the export, a metadata json file is stored by default. This file must be present in the same folder as the npz file, otherwise the npz file can not be re-imported properly."
   ]
  },
  {
   "cell_type": "markdown",
   "metadata": {},
   "source": [
    "Here we demonstrate exporting and re-importing all the frames as individual npz files"
   ]
  },
  {
   "cell_type": "code",
   "execution_count": null,
   "metadata": {},
   "outputs": [],
   "source": [
    "export_path = \"./Test\""
   ]
  },
  {
   "cell_type": "code",
   "execution_count": null,
   "metadata": {},
   "outputs": [],
   "source": [
    "specstr.export_streamframes(export_path)"
   ]
  },
  {
   "cell_type": "code",
   "execution_count": null,
   "metadata": {},
   "outputs": [],
   "source": [
    "specstr_import = dio.import_files_to_spectrumstream(export_path)"
   ]
  },
  {
   "cell_type": "markdown",
   "metadata": {},
   "source": [
    "Here we demonstrate exporting and re-importing the entire stream as one npz file"
   ]
  },
  {
   "cell_type": "code",
   "execution_count": null,
   "metadata": {},
   "outputs": [],
   "source": [
    "export_path2 = \"./Test2/teststreamframe\"\n",
    "specstr.export_data(export_path2)"
   ]
  },
  {
   "cell_type": "code",
   "execution_count": null,
   "metadata": {},
   "outputs": [],
   "source": [
    "specstr_import2 = dio.import_file_to_spectrumstream(\"./Test2/teststreamframe.npz\")"
   ]
  },
  {
   "cell_type": "markdown",
   "metadata": {},
   "source": [
    "### 4.3 The point spectrum"
   ]
  },
  {
   "cell_type": "markdown",
   "metadata": {},
   "source": [
    "Once the appropriate frames have been selected and aligned in the stream, we can do 2 main operations: create a summed spectrum or create a spectrumstream. Here we look at the spectrum, as it's quite similar to an intensity profile. Essentially we add all rows in the sparse matrix which gives us our spectrum; this is an extremely efficient operation. We calculate the spectrum and return a `Spectrum` object with the `spectrum` attribute"
   ]
  },
  {
   "cell_type": "code",
   "execution_count": null,
   "metadata": {},
   "outputs": [],
   "source": [
    "spec = specstr.spectrum"
   ]
  },
  {
   "cell_type": "markdown",
   "metadata": {},
   "source": [
    "We can use the `plot` command for visulatization. Again, we can edit the properties of the plot by catching the objects returned by the plot command"
   ]
  },
  {
   "cell_type": "code",
   "execution_count": null,
   "metadata": {},
   "outputs": [],
   "source": [
    "ax, spec_plt = spec.plot()\n",
    "ax.set_ylim(0,1500)\n",
    "ax.set_xlim(0, 20)\n",
    "spec_plt[0].set_label(\"Total spectrum\")\n",
    "spec_plt[0].set_color(\"red\")\n",
    "ax.legend()"
   ]
  },
  {
   "cell_type": "markdown",
   "metadata": {},
   "source": [
    "An additional function to the `Spectrum` object is that you can find peaks using the `calc_peaks` method. You should provide some arguments in the `pf_props` dictionary, which is passed directly to c. Please familiarize yourself with the options here: <https://docs.scipy.org/doc/scipy/reference/generated/scipy.signal.find_peaks.html> . The function will return a table of peaks with columns channel index, energy, and peak height. In addition, it will return all the additional properties of the peaks, calculated by `scip.signal.find_peaks`."
   ]
  },
  {
   "cell_type": "code",
   "execution_count": null,
   "metadata": {},
   "outputs": [],
   "source": [
    "spec.calc_peaks(pf_props={\"height\": 30, \"width\": 10})"
   ]
  },
  {
   "cell_type": "markdown",
   "metadata": {},
   "source": [
    "The basic peaks table is stored in the `peaks` attribute. It is a pandas Dataframe, which you can export to excel if necessary with `to_excel` (see [documentation](https://pandas.pydata.org/pandas-docs/stable/reference/api/pandas.DataFrame.to_excel.html)). "
   ]
  },
  {
   "cell_type": "code",
   "execution_count": null,
   "metadata": {},
   "outputs": [],
   "source": [
    "spec.peaks"
   ]
  },
  {
   "cell_type": "markdown",
   "metadata": {},
   "source": [
    "Once you have calculated the peaks you can also plot them by setting the `show_peaks` argument to `True` in `plot`. It will plot the peaks as points as well as a red interval with `w` the number of channels in this interval "
   ]
  },
  {
   "cell_type": "code",
   "execution_count": null,
   "metadata": {},
   "outputs": [],
   "source": [
    "ax, spec_plt = spec.plot(show_peaks=True, w=30)\n",
    "ax.set_ylim(0,1500)\n",
    "ax.set_xlim(0, 20)"
   ]
  },
  {
   "cell_type": "markdown",
   "metadata": {},
   "source": [
    "We can export a spectrum similar to an intensity profile, to an excel file or to a hyperspy object. With hyperspy, many more tools are available for analyzing/manipulating EDX and EELS spectra. The conversion is just to a simple signal 1D objecta and metadata is lost. You have to manually convert it to an edx or eels dataset and set the important metadata (see <http://hyperspy.org/hyperspy-doc/current/user_guide/eds.html>). In future versions we can consider automatic recognition of EELS vs EDX and automatic conversion."
   ]
  },
  {
   "cell_type": "code",
   "execution_count": null,
   "metadata": {},
   "outputs": [],
   "source": [
    "spec.to_excel(\"./spectrum.xlsx\")"
   ]
  },
  {
   "cell_type": "code",
   "execution_count": null,
   "metadata": {},
   "outputs": [],
   "source": [
    "spec.to_hspy(filepath = \"./spectrum\")"
   ]
  },
  {
   "cell_type": "markdown",
   "metadata": {},
   "source": [
    "### 4.4 The SpectrumMap"
   ]
  },
  {
   "cell_type": "markdown",
   "metadata": {},
   "source": [
    "You can create a summed spectrum map with the attribute `spectrum_map`"
   ]
  },
  {
   "cell_type": "code",
   "execution_count": 12,
   "metadata": {},
   "outputs": [],
   "source": [
    "smap = specstr.spectrum_map"
   ]
  },
  {
   "cell_type": "markdown",
   "metadata": {},
   "source": [
    "As with the spectrum stream you can also still access the spectrum from the spectrum map. Changes to the spectrum map will also be implemented in the spectrum"
   ]
  },
  {
   "cell_type": "code",
   "execution_count": null,
   "metadata": {},
   "outputs": [],
   "source": [
    "spec_2 = smap.spectrum"
   ]
  },
  {
   "cell_type": "code",
   "execution_count": null,
   "metadata": {},
   "outputs": [],
   "source": [
    "spec_2.plot()"
   ]
  },
  {
   "cell_type": "markdown",
   "metadata": {},
   "source": [
    "You can visualize the spectrum map with `plot_interactive`. This will show an image corresponding to the spectrumstream integrated over a certain energy window. The energy slider sets the middle of this window, the width determines the width of the window. Moving the energy slider allows you to explore different parts of the spectrum, to help you the spectrum is plot on the slider. I haven't found a way to make the slider taller unfortunately. I recommend clicking to a position in the energy slider and not actually sliding: this can block the widget after a while. The max slider controlls the color mapping."
   ]
  },
  {
   "cell_type": "code",
   "execution_count": null,
   "metadata": {},
   "outputs": [],
   "source": [
    "smap.plot_interactive()"
   ]
  },
  {
   "cell_type": "markdown",
   "metadata": {},
   "source": [
    "You can perform basic operations on the spectrum, such as rebinning and cropping. Rebinning the spatial dimension is a different command from rebinning the energy dimension. Note that rebinning works differently from rebinning images: here it works in an additive way! Neighboring pixels are simply summed together. Hence we only accept integer divisors of the dimension sizes as argument here. If you need more advanced binning with linear interpolation consider using hyperspy for these operations."
   ]
  },
  {
   "cell_type": "code",
   "execution_count": null,
   "metadata": {},
   "outputs": [],
   "source": [
    "smap.rebin(2, inplace=True)"
   ]
  },
  {
   "cell_type": "code",
   "execution_count": null,
   "metadata": {},
   "outputs": [],
   "source": [
    "smap.crop(20, 0, 60, 70, inplace=True)"
   ]
  },
  {
   "cell_type": "code",
   "execution_count": null,
   "metadata": {},
   "outputs": [],
   "source": [
    "smap.rebin_energy(4, inplace=True)"
   ]
  },
  {
   "cell_type": "code",
   "execution_count": null,
   "metadata": {},
   "outputs": [],
   "source": [
    "smap.data.shape"
   ]
  },
  {
   "cell_type": "code",
   "execution_count": null,
   "metadata": {},
   "outputs": [],
   "source": [
    "smap.plot_interactive()"
   ]
  },
  {
   "cell_type": "markdown",
   "metadata": {},
   "source": [
    "You can extract certain \"peak\" images from the map with the `integrate_to_image` command where you provide the energy and the window width in the correct units. Returned is a GeneralImage object that you can work with as before. Here we use the peaks calculated earlier to select the energy position"
   ]
  },
  {
   "cell_type": "code",
   "execution_count": null,
   "metadata": {},
   "outputs": [],
   "source": [
    "spec_img1 = smap.integrate_to_image(spec.peaks.iloc[5, 1], 0.4)\n",
    "spec_img2 = smap.integrate_to_image(spec.peaks.iloc[4, 1], 0.4)"
   ]
  },
  {
   "cell_type": "code",
   "execution_count": null,
   "metadata": {},
   "outputs": [],
   "source": [
    "spec_img1.plot(imshow_kwargs={\"cmap\": \"jet\"})"
   ]
  },
  {
   "cell_type": "markdown",
   "metadata": {},
   "source": [
    "You can convert the spectrum map also to a hyperspy dataset and continue working with it there"
   ]
  },
  {
   "cell_type": "markdown",
   "metadata": {},
   "source": [
    "### 4.5 The line profile"
   ]
  },
  {
   "cell_type": "markdown",
   "metadata": {},
   "source": [
    "It is also possible to extract line spectra from spectrum maps, analogous to extracting intensity profiles in images. A wedge is taken out of the data cube along the user defined direction. So the data in the line spectrum is 2-dimensional: length x channels.\n",
    "\n",
    "The way it is currently implemented, calculation of such a profile can be quite slow with large data cubes (a few minutes even for $256 \\times 256 \\times 4096$). In any case, you will get very few counts in a line extracted from a map. Therefore, I highly recommend you do a binning first on the map in both the spatial and energy directions"
   ]
  },
  {
   "cell_type": "code",
   "execution_count": 13,
   "metadata": {},
   "outputs": [],
   "source": [
    "smap_rebin = smap.rebin(2)\n",
    "smap_rebin.rebin_energy(8, inplace=True)"
   ]
  },
  {
   "cell_type": "code",
   "execution_count": 14,
   "metadata": {},
   "outputs": [
    {
     "data": {
      "text/plain": [
       "(512, 128, 128)"
      ]
     },
     "execution_count": 14,
     "metadata": {},
     "output_type": "execute_result"
    }
   ],
   "source": [
    "smap_rebin.data.shape"
   ]
  },
  {
   "cell_type": "markdown",
   "metadata": {},
   "source": [
    "To demonstrate where we will make the line profile, we first plot an image from one of the peaks we saw before in the spectrum. I just selected two random coordinates for the green arrow and will only integrate over a width of 5 pixels. For the magenta arrow we take one directly perpendicular to the linear features and will integrate over a wide range"
   ]
  },
  {
   "cell_type": "code",
   "execution_count": 60,
   "metadata": {},
   "outputs": [],
   "source": [
    "im_bigpeak = smap_rebin.integrate_to_image(6.51, 0.5)"
   ]
  },
  {
   "cell_type": "code",
   "execution_count": 71,
   "metadata": {},
   "outputs": [
    {
     "data": {
      "application/javascript": [
       "/* Put everything inside the global mpl namespace */\n",
       "window.mpl = {};\n",
       "\n",
       "\n",
       "mpl.get_websocket_type = function() {\n",
       "    if (typeof(WebSocket) !== 'undefined') {\n",
       "        return WebSocket;\n",
       "    } else if (typeof(MozWebSocket) !== 'undefined') {\n",
       "        return MozWebSocket;\n",
       "    } else {\n",
       "        alert('Your browser does not have WebSocket support. ' +\n",
       "              'Please try Chrome, Safari or Firefox ≥ 6. ' +\n",
       "              'Firefox 4 and 5 are also supported but you ' +\n",
       "              'have to enable WebSockets in about:config.');\n",
       "    };\n",
       "}\n",
       "\n",
       "mpl.figure = function(figure_id, websocket, ondownload, parent_element) {\n",
       "    this.id = figure_id;\n",
       "\n",
       "    this.ws = websocket;\n",
       "\n",
       "    this.supports_binary = (this.ws.binaryType != undefined);\n",
       "\n",
       "    if (!this.supports_binary) {\n",
       "        var warnings = document.getElementById(\"mpl-warnings\");\n",
       "        if (warnings) {\n",
       "            warnings.style.display = 'block';\n",
       "            warnings.textContent = (\n",
       "                \"This browser does not support binary websocket messages. \" +\n",
       "                    \"Performance may be slow.\");\n",
       "        }\n",
       "    }\n",
       "\n",
       "    this.imageObj = new Image();\n",
       "\n",
       "    this.context = undefined;\n",
       "    this.message = undefined;\n",
       "    this.canvas = undefined;\n",
       "    this.rubberband_canvas = undefined;\n",
       "    this.rubberband_context = undefined;\n",
       "    this.format_dropdown = undefined;\n",
       "\n",
       "    this.image_mode = 'full';\n",
       "\n",
       "    this.root = $('<div/>');\n",
       "    this._root_extra_style(this.root)\n",
       "    this.root.attr('style', 'display: inline-block');\n",
       "\n",
       "    $(parent_element).append(this.root);\n",
       "\n",
       "    this._init_header(this);\n",
       "    this._init_canvas(this);\n",
       "    this._init_toolbar(this);\n",
       "\n",
       "    var fig = this;\n",
       "\n",
       "    this.waiting = false;\n",
       "\n",
       "    this.ws.onopen =  function () {\n",
       "            fig.send_message(\"supports_binary\", {value: fig.supports_binary});\n",
       "            fig.send_message(\"send_image_mode\", {});\n",
       "            if (mpl.ratio != 1) {\n",
       "                fig.send_message(\"set_dpi_ratio\", {'dpi_ratio': mpl.ratio});\n",
       "            }\n",
       "            fig.send_message(\"refresh\", {});\n",
       "        }\n",
       "\n",
       "    this.imageObj.onload = function() {\n",
       "            if (fig.image_mode == 'full') {\n",
       "                // Full images could contain transparency (where diff images\n",
       "                // almost always do), so we need to clear the canvas so that\n",
       "                // there is no ghosting.\n",
       "                fig.context.clearRect(0, 0, fig.canvas.width, fig.canvas.height);\n",
       "            }\n",
       "            fig.context.drawImage(fig.imageObj, 0, 0);\n",
       "        };\n",
       "\n",
       "    this.imageObj.onunload = function() {\n",
       "        fig.ws.close();\n",
       "    }\n",
       "\n",
       "    this.ws.onmessage = this._make_on_message_function(this);\n",
       "\n",
       "    this.ondownload = ondownload;\n",
       "}\n",
       "\n",
       "mpl.figure.prototype._init_header = function() {\n",
       "    var titlebar = $(\n",
       "        '<div class=\"ui-dialog-titlebar ui-widget-header ui-corner-all ' +\n",
       "        'ui-helper-clearfix\"/>');\n",
       "    var titletext = $(\n",
       "        '<div class=\"ui-dialog-title\" style=\"width: 100%; ' +\n",
       "        'text-align: center; padding: 3px;\"/>');\n",
       "    titlebar.append(titletext)\n",
       "    this.root.append(titlebar);\n",
       "    this.header = titletext[0];\n",
       "}\n",
       "\n",
       "\n",
       "\n",
       "mpl.figure.prototype._canvas_extra_style = function(canvas_div) {\n",
       "\n",
       "}\n",
       "\n",
       "\n",
       "mpl.figure.prototype._root_extra_style = function(canvas_div) {\n",
       "\n",
       "}\n",
       "\n",
       "mpl.figure.prototype._init_canvas = function() {\n",
       "    var fig = this;\n",
       "\n",
       "    var canvas_div = $('<div/>');\n",
       "\n",
       "    canvas_div.attr('style', 'position: relative; clear: both; outline: 0');\n",
       "\n",
       "    function canvas_keyboard_event(event) {\n",
       "        return fig.key_event(event, event['data']);\n",
       "    }\n",
       "\n",
       "    canvas_div.keydown('key_press', canvas_keyboard_event);\n",
       "    canvas_div.keyup('key_release', canvas_keyboard_event);\n",
       "    this.canvas_div = canvas_div\n",
       "    this._canvas_extra_style(canvas_div)\n",
       "    this.root.append(canvas_div);\n",
       "\n",
       "    var canvas = $('<canvas/>');\n",
       "    canvas.addClass('mpl-canvas');\n",
       "    canvas.attr('style', \"left: 0; top: 0; z-index: 0; outline: 0\")\n",
       "\n",
       "    this.canvas = canvas[0];\n",
       "    this.context = canvas[0].getContext(\"2d\");\n",
       "\n",
       "    var backingStore = this.context.backingStorePixelRatio ||\n",
       "\tthis.context.webkitBackingStorePixelRatio ||\n",
       "\tthis.context.mozBackingStorePixelRatio ||\n",
       "\tthis.context.msBackingStorePixelRatio ||\n",
       "\tthis.context.oBackingStorePixelRatio ||\n",
       "\tthis.context.backingStorePixelRatio || 1;\n",
       "\n",
       "    mpl.ratio = (window.devicePixelRatio || 1) / backingStore;\n",
       "\n",
       "    var rubberband = $('<canvas/>');\n",
       "    rubberband.attr('style', \"position: absolute; left: 0; top: 0; z-index: 1;\")\n",
       "\n",
       "    var pass_mouse_events = true;\n",
       "\n",
       "    canvas_div.resizable({\n",
       "        start: function(event, ui) {\n",
       "            pass_mouse_events = false;\n",
       "        },\n",
       "        resize: function(event, ui) {\n",
       "            fig.request_resize(ui.size.width, ui.size.height);\n",
       "        },\n",
       "        stop: function(event, ui) {\n",
       "            pass_mouse_events = true;\n",
       "            fig.request_resize(ui.size.width, ui.size.height);\n",
       "        },\n",
       "    });\n",
       "\n",
       "    function mouse_event_fn(event) {\n",
       "        if (pass_mouse_events)\n",
       "            return fig.mouse_event(event, event['data']);\n",
       "    }\n",
       "\n",
       "    rubberband.mousedown('button_press', mouse_event_fn);\n",
       "    rubberband.mouseup('button_release', mouse_event_fn);\n",
       "    // Throttle sequential mouse events to 1 every 20ms.\n",
       "    rubberband.mousemove('motion_notify', mouse_event_fn);\n",
       "\n",
       "    rubberband.mouseenter('figure_enter', mouse_event_fn);\n",
       "    rubberband.mouseleave('figure_leave', mouse_event_fn);\n",
       "\n",
       "    canvas_div.on(\"wheel\", function (event) {\n",
       "        event = event.originalEvent;\n",
       "        event['data'] = 'scroll'\n",
       "        if (event.deltaY < 0) {\n",
       "            event.step = 1;\n",
       "        } else {\n",
       "            event.step = -1;\n",
       "        }\n",
       "        mouse_event_fn(event);\n",
       "    });\n",
       "\n",
       "    canvas_div.append(canvas);\n",
       "    canvas_div.append(rubberband);\n",
       "\n",
       "    this.rubberband = rubberband;\n",
       "    this.rubberband_canvas = rubberband[0];\n",
       "    this.rubberband_context = rubberband[0].getContext(\"2d\");\n",
       "    this.rubberband_context.strokeStyle = \"#000000\";\n",
       "\n",
       "    this._resize_canvas = function(width, height) {\n",
       "        // Keep the size of the canvas, canvas container, and rubber band\n",
       "        // canvas in synch.\n",
       "        canvas_div.css('width', width)\n",
       "        canvas_div.css('height', height)\n",
       "\n",
       "        canvas.attr('width', width * mpl.ratio);\n",
       "        canvas.attr('height', height * mpl.ratio);\n",
       "        canvas.attr('style', 'width: ' + width + 'px; height: ' + height + 'px;');\n",
       "\n",
       "        rubberband.attr('width', width);\n",
       "        rubberband.attr('height', height);\n",
       "    }\n",
       "\n",
       "    // Set the figure to an initial 600x600px, this will subsequently be updated\n",
       "    // upon first draw.\n",
       "    this._resize_canvas(600, 600);\n",
       "\n",
       "    // Disable right mouse context menu.\n",
       "    $(this.rubberband_canvas).bind(\"contextmenu\",function(e){\n",
       "        return false;\n",
       "    });\n",
       "\n",
       "    function set_focus () {\n",
       "        canvas.focus();\n",
       "        canvas_div.focus();\n",
       "    }\n",
       "\n",
       "    window.setTimeout(set_focus, 100);\n",
       "}\n",
       "\n",
       "mpl.figure.prototype._init_toolbar = function() {\n",
       "    var fig = this;\n",
       "\n",
       "    var nav_element = $('<div/>');\n",
       "    nav_element.attr('style', 'width: 100%');\n",
       "    this.root.append(nav_element);\n",
       "\n",
       "    // Define a callback function for later on.\n",
       "    function toolbar_event(event) {\n",
       "        return fig.toolbar_button_onclick(event['data']);\n",
       "    }\n",
       "    function toolbar_mouse_event(event) {\n",
       "        return fig.toolbar_button_onmouseover(event['data']);\n",
       "    }\n",
       "\n",
       "    for(var toolbar_ind in mpl.toolbar_items) {\n",
       "        var name = mpl.toolbar_items[toolbar_ind][0];\n",
       "        var tooltip = mpl.toolbar_items[toolbar_ind][1];\n",
       "        var image = mpl.toolbar_items[toolbar_ind][2];\n",
       "        var method_name = mpl.toolbar_items[toolbar_ind][3];\n",
       "\n",
       "        if (!name) {\n",
       "            // put a spacer in here.\n",
       "            continue;\n",
       "        }\n",
       "        var button = $('<button/>');\n",
       "        button.addClass('ui-button ui-widget ui-state-default ui-corner-all ' +\n",
       "                        'ui-button-icon-only');\n",
       "        button.attr('role', 'button');\n",
       "        button.attr('aria-disabled', 'false');\n",
       "        button.click(method_name, toolbar_event);\n",
       "        button.mouseover(tooltip, toolbar_mouse_event);\n",
       "\n",
       "        var icon_img = $('<span/>');\n",
       "        icon_img.addClass('ui-button-icon-primary ui-icon');\n",
       "        icon_img.addClass(image);\n",
       "        icon_img.addClass('ui-corner-all');\n",
       "\n",
       "        var tooltip_span = $('<span/>');\n",
       "        tooltip_span.addClass('ui-button-text');\n",
       "        tooltip_span.html(tooltip);\n",
       "\n",
       "        button.append(icon_img);\n",
       "        button.append(tooltip_span);\n",
       "\n",
       "        nav_element.append(button);\n",
       "    }\n",
       "\n",
       "    var fmt_picker_span = $('<span/>');\n",
       "\n",
       "    var fmt_picker = $('<select/>');\n",
       "    fmt_picker.addClass('mpl-toolbar-option ui-widget ui-widget-content');\n",
       "    fmt_picker_span.append(fmt_picker);\n",
       "    nav_element.append(fmt_picker_span);\n",
       "    this.format_dropdown = fmt_picker[0];\n",
       "\n",
       "    for (var ind in mpl.extensions) {\n",
       "        var fmt = mpl.extensions[ind];\n",
       "        var option = $(\n",
       "            '<option/>', {selected: fmt === mpl.default_extension}).html(fmt);\n",
       "        fmt_picker.append(option);\n",
       "    }\n",
       "\n",
       "    // Add hover states to the ui-buttons\n",
       "    $( \".ui-button\" ).hover(\n",
       "        function() { $(this).addClass(\"ui-state-hover\");},\n",
       "        function() { $(this).removeClass(\"ui-state-hover\");}\n",
       "    );\n",
       "\n",
       "    var status_bar = $('<span class=\"mpl-message\"/>');\n",
       "    nav_element.append(status_bar);\n",
       "    this.message = status_bar[0];\n",
       "}\n",
       "\n",
       "mpl.figure.prototype.request_resize = function(x_pixels, y_pixels) {\n",
       "    // Request matplotlib to resize the figure. Matplotlib will then trigger a resize in the client,\n",
       "    // which will in turn request a refresh of the image.\n",
       "    this.send_message('resize', {'width': x_pixels, 'height': y_pixels});\n",
       "}\n",
       "\n",
       "mpl.figure.prototype.send_message = function(type, properties) {\n",
       "    properties['type'] = type;\n",
       "    properties['figure_id'] = this.id;\n",
       "    this.ws.send(JSON.stringify(properties));\n",
       "}\n",
       "\n",
       "mpl.figure.prototype.send_draw_message = function() {\n",
       "    if (!this.waiting) {\n",
       "        this.waiting = true;\n",
       "        this.ws.send(JSON.stringify({type: \"draw\", figure_id: this.id}));\n",
       "    }\n",
       "}\n",
       "\n",
       "\n",
       "mpl.figure.prototype.handle_save = function(fig, msg) {\n",
       "    var format_dropdown = fig.format_dropdown;\n",
       "    var format = format_dropdown.options[format_dropdown.selectedIndex].value;\n",
       "    fig.ondownload(fig, format);\n",
       "}\n",
       "\n",
       "\n",
       "mpl.figure.prototype.handle_resize = function(fig, msg) {\n",
       "    var size = msg['size'];\n",
       "    if (size[0] != fig.canvas.width || size[1] != fig.canvas.height) {\n",
       "        fig._resize_canvas(size[0], size[1]);\n",
       "        fig.send_message(\"refresh\", {});\n",
       "    };\n",
       "}\n",
       "\n",
       "mpl.figure.prototype.handle_rubberband = function(fig, msg) {\n",
       "    var x0 = msg['x0'] / mpl.ratio;\n",
       "    var y0 = (fig.canvas.height - msg['y0']) / mpl.ratio;\n",
       "    var x1 = msg['x1'] / mpl.ratio;\n",
       "    var y1 = (fig.canvas.height - msg['y1']) / mpl.ratio;\n",
       "    x0 = Math.floor(x0) + 0.5;\n",
       "    y0 = Math.floor(y0) + 0.5;\n",
       "    x1 = Math.floor(x1) + 0.5;\n",
       "    y1 = Math.floor(y1) + 0.5;\n",
       "    var min_x = Math.min(x0, x1);\n",
       "    var min_y = Math.min(y0, y1);\n",
       "    var width = Math.abs(x1 - x0);\n",
       "    var height = Math.abs(y1 - y0);\n",
       "\n",
       "    fig.rubberband_context.clearRect(\n",
       "        0, 0, fig.canvas.width / mpl.ratio, fig.canvas.height / mpl.ratio);\n",
       "\n",
       "    fig.rubberband_context.strokeRect(min_x, min_y, width, height);\n",
       "}\n",
       "\n",
       "mpl.figure.prototype.handle_figure_label = function(fig, msg) {\n",
       "    // Updates the figure title.\n",
       "    fig.header.textContent = msg['label'];\n",
       "}\n",
       "\n",
       "mpl.figure.prototype.handle_cursor = function(fig, msg) {\n",
       "    var cursor = msg['cursor'];\n",
       "    switch(cursor)\n",
       "    {\n",
       "    case 0:\n",
       "        cursor = 'pointer';\n",
       "        break;\n",
       "    case 1:\n",
       "        cursor = 'default';\n",
       "        break;\n",
       "    case 2:\n",
       "        cursor = 'crosshair';\n",
       "        break;\n",
       "    case 3:\n",
       "        cursor = 'move';\n",
       "        break;\n",
       "    }\n",
       "    fig.rubberband_canvas.style.cursor = cursor;\n",
       "}\n",
       "\n",
       "mpl.figure.prototype.handle_message = function(fig, msg) {\n",
       "    fig.message.textContent = msg['message'];\n",
       "}\n",
       "\n",
       "mpl.figure.prototype.handle_draw = function(fig, msg) {\n",
       "    // Request the server to send over a new figure.\n",
       "    fig.send_draw_message();\n",
       "}\n",
       "\n",
       "mpl.figure.prototype.handle_image_mode = function(fig, msg) {\n",
       "    fig.image_mode = msg['mode'];\n",
       "}\n",
       "\n",
       "mpl.figure.prototype.updated_canvas_event = function() {\n",
       "    // Called whenever the canvas gets updated.\n",
       "    this.send_message(\"ack\", {});\n",
       "}\n",
       "\n",
       "// A function to construct a web socket function for onmessage handling.\n",
       "// Called in the figure constructor.\n",
       "mpl.figure.prototype._make_on_message_function = function(fig) {\n",
       "    return function socket_on_message(evt) {\n",
       "        if (evt.data instanceof Blob) {\n",
       "            /* FIXME: We get \"Resource interpreted as Image but\n",
       "             * transferred with MIME type text/plain:\" errors on\n",
       "             * Chrome.  But how to set the MIME type?  It doesn't seem\n",
       "             * to be part of the websocket stream */\n",
       "            evt.data.type = \"image/png\";\n",
       "\n",
       "            /* Free the memory for the previous frames */\n",
       "            if (fig.imageObj.src) {\n",
       "                (window.URL || window.webkitURL).revokeObjectURL(\n",
       "                    fig.imageObj.src);\n",
       "            }\n",
       "\n",
       "            fig.imageObj.src = (window.URL || window.webkitURL).createObjectURL(\n",
       "                evt.data);\n",
       "            fig.updated_canvas_event();\n",
       "            fig.waiting = false;\n",
       "            return;\n",
       "        }\n",
       "        else if (typeof evt.data === 'string' && evt.data.slice(0, 21) == \"data:image/png;base64\") {\n",
       "            fig.imageObj.src = evt.data;\n",
       "            fig.updated_canvas_event();\n",
       "            fig.waiting = false;\n",
       "            return;\n",
       "        }\n",
       "\n",
       "        var msg = JSON.parse(evt.data);\n",
       "        var msg_type = msg['type'];\n",
       "\n",
       "        // Call the  \"handle_{type}\" callback, which takes\n",
       "        // the figure and JSON message as its only arguments.\n",
       "        try {\n",
       "            var callback = fig[\"handle_\" + msg_type];\n",
       "        } catch (e) {\n",
       "            console.log(\"No handler for the '\" + msg_type + \"' message type: \", msg);\n",
       "            return;\n",
       "        }\n",
       "\n",
       "        if (callback) {\n",
       "            try {\n",
       "                // console.log(\"Handling '\" + msg_type + \"' message: \", msg);\n",
       "                callback(fig, msg);\n",
       "            } catch (e) {\n",
       "                console.log(\"Exception inside the 'handler_\" + msg_type + \"' callback:\", e, e.stack, msg);\n",
       "            }\n",
       "        }\n",
       "    };\n",
       "}\n",
       "\n",
       "// from http://stackoverflow.com/questions/1114465/getting-mouse-location-in-canvas\n",
       "mpl.findpos = function(e) {\n",
       "    //this section is from http://www.quirksmode.org/js/events_properties.html\n",
       "    var targ;\n",
       "    if (!e)\n",
       "        e = window.event;\n",
       "    if (e.target)\n",
       "        targ = e.target;\n",
       "    else if (e.srcElement)\n",
       "        targ = e.srcElement;\n",
       "    if (targ.nodeType == 3) // defeat Safari bug\n",
       "        targ = targ.parentNode;\n",
       "\n",
       "    // jQuery normalizes the pageX and pageY\n",
       "    // pageX,Y are the mouse positions relative to the document\n",
       "    // offset() returns the position of the element relative to the document\n",
       "    var x = e.pageX - $(targ).offset().left;\n",
       "    var y = e.pageY - $(targ).offset().top;\n",
       "\n",
       "    return {\"x\": x, \"y\": y};\n",
       "};\n",
       "\n",
       "/*\n",
       " * return a copy of an object with only non-object keys\n",
       " * we need this to avoid circular references\n",
       " * http://stackoverflow.com/a/24161582/3208463\n",
       " */\n",
       "function simpleKeys (original) {\n",
       "  return Object.keys(original).reduce(function (obj, key) {\n",
       "    if (typeof original[key] !== 'object')\n",
       "        obj[key] = original[key]\n",
       "    return obj;\n",
       "  }, {});\n",
       "}\n",
       "\n",
       "mpl.figure.prototype.mouse_event = function(event, name) {\n",
       "    var canvas_pos = mpl.findpos(event)\n",
       "\n",
       "    if (name === 'button_press')\n",
       "    {\n",
       "        this.canvas.focus();\n",
       "        this.canvas_div.focus();\n",
       "    }\n",
       "\n",
       "    var x = canvas_pos.x * mpl.ratio;\n",
       "    var y = canvas_pos.y * mpl.ratio;\n",
       "\n",
       "    this.send_message(name, {x: x, y: y, button: event.button,\n",
       "                             step: event.step,\n",
       "                             guiEvent: simpleKeys(event)});\n",
       "\n",
       "    /* This prevents the web browser from automatically changing to\n",
       "     * the text insertion cursor when the button is pressed.  We want\n",
       "     * to control all of the cursor setting manually through the\n",
       "     * 'cursor' event from matplotlib */\n",
       "    event.preventDefault();\n",
       "    return false;\n",
       "}\n",
       "\n",
       "mpl.figure.prototype._key_event_extra = function(event, name) {\n",
       "    // Handle any extra behaviour associated with a key event\n",
       "}\n",
       "\n",
       "mpl.figure.prototype.key_event = function(event, name) {\n",
       "\n",
       "    // Prevent repeat events\n",
       "    if (name == 'key_press')\n",
       "    {\n",
       "        if (event.which === this._key)\n",
       "            return;\n",
       "        else\n",
       "            this._key = event.which;\n",
       "    }\n",
       "    if (name == 'key_release')\n",
       "        this._key = null;\n",
       "\n",
       "    var value = '';\n",
       "    if (event.ctrlKey && event.which != 17)\n",
       "        value += \"ctrl+\";\n",
       "    if (event.altKey && event.which != 18)\n",
       "        value += \"alt+\";\n",
       "    if (event.shiftKey && event.which != 16)\n",
       "        value += \"shift+\";\n",
       "\n",
       "    value += 'k';\n",
       "    value += event.which.toString();\n",
       "\n",
       "    this._key_event_extra(event, name);\n",
       "\n",
       "    this.send_message(name, {key: value,\n",
       "                             guiEvent: simpleKeys(event)});\n",
       "    return false;\n",
       "}\n",
       "\n",
       "mpl.figure.prototype.toolbar_button_onclick = function(name) {\n",
       "    if (name == 'download') {\n",
       "        this.handle_save(this, null);\n",
       "    } else {\n",
       "        this.send_message(\"toolbar_button\", {name: name});\n",
       "    }\n",
       "};\n",
       "\n",
       "mpl.figure.prototype.toolbar_button_onmouseover = function(tooltip) {\n",
       "    this.message.textContent = tooltip;\n",
       "};\n",
       "mpl.toolbar_items = [[\"Home\", \"Reset original view\", \"fa fa-home icon-home\", \"home\"], [\"Back\", \"Back to previous view\", \"fa fa-arrow-left icon-arrow-left\", \"back\"], [\"Forward\", \"Forward to next view\", \"fa fa-arrow-right icon-arrow-right\", \"forward\"], [\"\", \"\", \"\", \"\"], [\"Pan\", \"Pan axes with left mouse, zoom with right\", \"fa fa-arrows icon-move\", \"pan\"], [\"Zoom\", \"Zoom to rectangle\", \"fa fa-square-o icon-check-empty\", \"zoom\"], [\"\", \"\", \"\", \"\"], [\"Download\", \"Download plot\", \"fa fa-floppy-o icon-save\", \"download\"]];\n",
       "\n",
       "mpl.extensions = [\"eps\", \"jpeg\", \"pdf\", \"png\", \"ps\", \"raw\", \"svg\", \"tif\"];\n",
       "\n",
       "mpl.default_extension = \"png\";var comm_websocket_adapter = function(comm) {\n",
       "    // Create a \"websocket\"-like object which calls the given IPython comm\n",
       "    // object with the appropriate methods. Currently this is a non binary\n",
       "    // socket, so there is still some room for performance tuning.\n",
       "    var ws = {};\n",
       "\n",
       "    ws.close = function() {\n",
       "        comm.close()\n",
       "    };\n",
       "    ws.send = function(m) {\n",
       "        //console.log('sending', m);\n",
       "        comm.send(m);\n",
       "    };\n",
       "    // Register the callback with on_msg.\n",
       "    comm.on_msg(function(msg) {\n",
       "        //console.log('receiving', msg['content']['data'], msg);\n",
       "        // Pass the mpl event to the overridden (by mpl) onmessage function.\n",
       "        ws.onmessage(msg['content']['data'])\n",
       "    });\n",
       "    return ws;\n",
       "}\n",
       "\n",
       "mpl.mpl_figure_comm = function(comm, msg) {\n",
       "    // This is the function which gets called when the mpl process\n",
       "    // starts-up an IPython Comm through the \"matplotlib\" channel.\n",
       "\n",
       "    var id = msg.content.data.id;\n",
       "    // Get hold of the div created by the display call when the Comm\n",
       "    // socket was opened in Python.\n",
       "    var element = $(\"#\" + id);\n",
       "    var ws_proxy = comm_websocket_adapter(comm)\n",
       "\n",
       "    function ondownload(figure, format) {\n",
       "        window.open(figure.imageObj.src);\n",
       "    }\n",
       "\n",
       "    var fig = new mpl.figure(id, ws_proxy,\n",
       "                           ondownload,\n",
       "                           element.get(0));\n",
       "\n",
       "    // Call onopen now - mpl needs it, as it is assuming we've passed it a real\n",
       "    // web socket which is closed, not our websocket->open comm proxy.\n",
       "    ws_proxy.onopen();\n",
       "\n",
       "    fig.parent_element = element.get(0);\n",
       "    fig.cell_info = mpl.find_output_cell(\"<div id='\" + id + \"'></div>\");\n",
       "    if (!fig.cell_info) {\n",
       "        console.error(\"Failed to find cell for figure\", id, fig);\n",
       "        return;\n",
       "    }\n",
       "\n",
       "    var output_index = fig.cell_info[2]\n",
       "    var cell = fig.cell_info[0];\n",
       "\n",
       "};\n",
       "\n",
       "mpl.figure.prototype.handle_close = function(fig, msg) {\n",
       "    var width = fig.canvas.width/mpl.ratio\n",
       "    fig.root.unbind('remove')\n",
       "\n",
       "    // Update the output cell to use the data from the current canvas.\n",
       "    fig.push_to_output();\n",
       "    var dataURL = fig.canvas.toDataURL();\n",
       "    // Re-enable the keyboard manager in IPython - without this line, in FF,\n",
       "    // the notebook keyboard shortcuts fail.\n",
       "    IPython.keyboard_manager.enable()\n",
       "    $(fig.parent_element).html('<img src=\"' + dataURL + '\" width=\"' + width + '\">');\n",
       "    fig.close_ws(fig, msg);\n",
       "}\n",
       "\n",
       "mpl.figure.prototype.close_ws = function(fig, msg){\n",
       "    fig.send_message('closing', msg);\n",
       "    // fig.ws.close()\n",
       "}\n",
       "\n",
       "mpl.figure.prototype.push_to_output = function(remove_interactive) {\n",
       "    // Turn the data on the canvas into data in the output cell.\n",
       "    var width = this.canvas.width/mpl.ratio\n",
       "    var dataURL = this.canvas.toDataURL();\n",
       "    this.cell_info[1]['text/html'] = '<img src=\"' + dataURL + '\" width=\"' + width + '\">';\n",
       "}\n",
       "\n",
       "mpl.figure.prototype.updated_canvas_event = function() {\n",
       "    // Tell IPython that the notebook contents must change.\n",
       "    IPython.notebook.set_dirty(true);\n",
       "    this.send_message(\"ack\", {});\n",
       "    var fig = this;\n",
       "    // Wait a second, then push the new image to the DOM so\n",
       "    // that it is saved nicely (might be nice to debounce this).\n",
       "    setTimeout(function () { fig.push_to_output() }, 1000);\n",
       "}\n",
       "\n",
       "mpl.figure.prototype._init_toolbar = function() {\n",
       "    var fig = this;\n",
       "\n",
       "    var nav_element = $('<div/>');\n",
       "    nav_element.attr('style', 'width: 100%');\n",
       "    this.root.append(nav_element);\n",
       "\n",
       "    // Define a callback function for later on.\n",
       "    function toolbar_event(event) {\n",
       "        return fig.toolbar_button_onclick(event['data']);\n",
       "    }\n",
       "    function toolbar_mouse_event(event) {\n",
       "        return fig.toolbar_button_onmouseover(event['data']);\n",
       "    }\n",
       "\n",
       "    for(var toolbar_ind in mpl.toolbar_items){\n",
       "        var name = mpl.toolbar_items[toolbar_ind][0];\n",
       "        var tooltip = mpl.toolbar_items[toolbar_ind][1];\n",
       "        var image = mpl.toolbar_items[toolbar_ind][2];\n",
       "        var method_name = mpl.toolbar_items[toolbar_ind][3];\n",
       "\n",
       "        if (!name) { continue; };\n",
       "\n",
       "        var button = $('<button class=\"btn btn-default\" href=\"#\" title=\"' + name + '\"><i class=\"fa ' + image + ' fa-lg\"></i></button>');\n",
       "        button.click(method_name, toolbar_event);\n",
       "        button.mouseover(tooltip, toolbar_mouse_event);\n",
       "        nav_element.append(button);\n",
       "    }\n",
       "\n",
       "    // Add the status bar.\n",
       "    var status_bar = $('<span class=\"mpl-message\" style=\"text-align:right; float: right;\"/>');\n",
       "    nav_element.append(status_bar);\n",
       "    this.message = status_bar[0];\n",
       "\n",
       "    // Add the close button to the window.\n",
       "    var buttongrp = $('<div class=\"btn-group inline pull-right\"></div>');\n",
       "    var button = $('<button class=\"btn btn-mini btn-primary\" href=\"#\" title=\"Stop Interaction\"><i class=\"fa fa-power-off icon-remove icon-large\"></i></button>');\n",
       "    button.click(function (evt) { fig.handle_close(fig, {}); } );\n",
       "    button.mouseover('Stop Interaction', toolbar_mouse_event);\n",
       "    buttongrp.append(button);\n",
       "    var titlebar = this.root.find($('.ui-dialog-titlebar'));\n",
       "    titlebar.prepend(buttongrp);\n",
       "}\n",
       "\n",
       "mpl.figure.prototype._root_extra_style = function(el){\n",
       "    var fig = this\n",
       "    el.on(\"remove\", function(){\n",
       "\tfig.close_ws(fig, {});\n",
       "    });\n",
       "}\n",
       "\n",
       "mpl.figure.prototype._canvas_extra_style = function(el){\n",
       "    // this is important to make the div 'focusable\n",
       "    el.attr('tabindex', 0)\n",
       "    // reach out to IPython and tell the keyboard manager to turn it's self\n",
       "    // off when our div gets focus\n",
       "\n",
       "    // location in version 3\n",
       "    if (IPython.notebook.keyboard_manager) {\n",
       "        IPython.notebook.keyboard_manager.register_events(el);\n",
       "    }\n",
       "    else {\n",
       "        // location in version 2\n",
       "        IPython.keyboard_manager.register_events(el);\n",
       "    }\n",
       "\n",
       "}\n",
       "\n",
       "mpl.figure.prototype._key_event_extra = function(event, name) {\n",
       "    var manager = IPython.notebook.keyboard_manager;\n",
       "    if (!manager)\n",
       "        manager = IPython.keyboard_manager;\n",
       "\n",
       "    // Check for shift+enter\n",
       "    if (event.shiftKey && event.which == 13) {\n",
       "        this.canvas_div.blur();\n",
       "        event.shiftKey = false;\n",
       "        // Send a \"J\" for go to next cell\n",
       "        event.which = 74;\n",
       "        event.keyCode = 74;\n",
       "        manager.command_mode();\n",
       "        manager.handle_keydown(event);\n",
       "    }\n",
       "}\n",
       "\n",
       "mpl.figure.prototype.handle_save = function(fig, msg) {\n",
       "    fig.ondownload(fig, null);\n",
       "}\n",
       "\n",
       "\n",
       "mpl.find_output_cell = function(html_output) {\n",
       "    // Return the cell and output element which can be found *uniquely* in the notebook.\n",
       "    // Note - this is a bit hacky, but it is done because the \"notebook_saving.Notebook\"\n",
       "    // IPython event is triggered only after the cells have been serialised, which for\n",
       "    // our purposes (turning an active figure into a static one), is too late.\n",
       "    var cells = IPython.notebook.get_cells();\n",
       "    var ncells = cells.length;\n",
       "    for (var i=0; i<ncells; i++) {\n",
       "        var cell = cells[i];\n",
       "        if (cell.cell_type === 'code'){\n",
       "            for (var j=0; j<cell.output_area.outputs.length; j++) {\n",
       "                var data = cell.output_area.outputs[j];\n",
       "                if (data.data) {\n",
       "                    // IPython >= 3 moved mimebundle to data attribute of output\n",
       "                    data = data.data;\n",
       "                }\n",
       "                if (data['text/html'] == html_output) {\n",
       "                    return [cell, data, j];\n",
       "                }\n",
       "            }\n",
       "        }\n",
       "    }\n",
       "}\n",
       "\n",
       "// Register the function which deals with the matplotlib target/channel.\n",
       "// The kernel may be null if the page has been refreshed.\n",
       "if (IPython.notebook.kernel != null) {\n",
       "    IPython.notebook.kernel.comm_manager.register_target('matplotlib', mpl.mpl_figure_comm);\n",
       "}\n"
      ],
      "text/plain": [
       "<IPython.core.display.Javascript object>"
      ]
     },
     "metadata": {},
     "output_type": "display_data"
    },
    {
     "data": {
      "text/html": [
       "<img src=\"data:image/png;base64,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\" width=\"590.4666666666667\">"
      ],
      "text/plain": [
       "<IPython.core.display.HTML object>"
      ]
     },
     "metadata": {},
     "output_type": "display_data"
    },
    {
     "data": {
      "text/plain": [
       "<matplotlib.patches.FancyArrow at 0x1c28b70290>"
      ]
     },
     "execution_count": 71,
     "metadata": {},
     "output_type": "execute_result"
    }
   ],
   "source": [
    "ax, impl = im_bigpeak.plot()\n",
    "impl.set_clim(0, 8)\n",
    "impl.set_cmap(\"hot\")\n",
    "\n",
    "x1, y1 = (35, 103)\n",
    "x2, y2 = (70, 13)\n",
    "ax.arrow(x1, y1, x2-x1, y2-y1, color = (0., 1., 0.), head_width=5)\n",
    "x1b, y1b = (64, 113)\n",
    "x2b, y2b = (64, 6)\n",
    "ax.arrow(x1b, y1b, x2b-x1b, y2b-y1b, color = (1., 0., 1.), head_width=5)"
   ]
  },
  {
   "cell_type": "markdown",
   "metadata": {},
   "source": [
    "The line profile is calculated with the `line_spectrum` command. It works in the same way as getting a line profile"
   ]
  },
  {
   "cell_type": "code",
   "execution_count": 69,
   "metadata": {},
   "outputs": [],
   "source": [
    "slp = smap_rebin.line_spectrum(x1, y1, x2, y2, w=3)\n",
    "slp2 = smap_rebin.line_spectrum(x1b, y1b, x2b, y2b, w=50)"
   ]
  },
  {
   "cell_type": "markdown",
   "metadata": {},
   "source": [
    "We can visualize the spectrum with `plot_interactive`. With the sliders you can select an energy and an energy integration width. With `slp2`, we can clearly see the evidence of the atomic rows. Select the peak around 2.23 KeV and you will see maxima where the dark bands are. Selecting 6.51 will of course show minima there."
   ]
  },
  {
   "cell_type": "code",
   "execution_count": 70,
   "metadata": {},
   "outputs": [
    {
     "data": {
      "application/javascript": [
       "/* Put everything inside the global mpl namespace */\n",
       "window.mpl = {};\n",
       "\n",
       "\n",
       "mpl.get_websocket_type = function() {\n",
       "    if (typeof(WebSocket) !== 'undefined') {\n",
       "        return WebSocket;\n",
       "    } else if (typeof(MozWebSocket) !== 'undefined') {\n",
       "        return MozWebSocket;\n",
       "    } else {\n",
       "        alert('Your browser does not have WebSocket support. ' +\n",
       "              'Please try Chrome, Safari or Firefox ≥ 6. ' +\n",
       "              'Firefox 4 and 5 are also supported but you ' +\n",
       "              'have to enable WebSockets in about:config.');\n",
       "    };\n",
       "}\n",
       "\n",
       "mpl.figure = function(figure_id, websocket, ondownload, parent_element) {\n",
       "    this.id = figure_id;\n",
       "\n",
       "    this.ws = websocket;\n",
       "\n",
       "    this.supports_binary = (this.ws.binaryType != undefined);\n",
       "\n",
       "    if (!this.supports_binary) {\n",
       "        var warnings = document.getElementById(\"mpl-warnings\");\n",
       "        if (warnings) {\n",
       "            warnings.style.display = 'block';\n",
       "            warnings.textContent = (\n",
       "                \"This browser does not support binary websocket messages. \" +\n",
       "                    \"Performance may be slow.\");\n",
       "        }\n",
       "    }\n",
       "\n",
       "    this.imageObj = new Image();\n",
       "\n",
       "    this.context = undefined;\n",
       "    this.message = undefined;\n",
       "    this.canvas = undefined;\n",
       "    this.rubberband_canvas = undefined;\n",
       "    this.rubberband_context = undefined;\n",
       "    this.format_dropdown = undefined;\n",
       "\n",
       "    this.image_mode = 'full';\n",
       "\n",
       "    this.root = $('<div/>');\n",
       "    this._root_extra_style(this.root)\n",
       "    this.root.attr('style', 'display: inline-block');\n",
       "\n",
       "    $(parent_element).append(this.root);\n",
       "\n",
       "    this._init_header(this);\n",
       "    this._init_canvas(this);\n",
       "    this._init_toolbar(this);\n",
       "\n",
       "    var fig = this;\n",
       "\n",
       "    this.waiting = false;\n",
       "\n",
       "    this.ws.onopen =  function () {\n",
       "            fig.send_message(\"supports_binary\", {value: fig.supports_binary});\n",
       "            fig.send_message(\"send_image_mode\", {});\n",
       "            if (mpl.ratio != 1) {\n",
       "                fig.send_message(\"set_dpi_ratio\", {'dpi_ratio': mpl.ratio});\n",
       "            }\n",
       "            fig.send_message(\"refresh\", {});\n",
       "        }\n",
       "\n",
       "    this.imageObj.onload = function() {\n",
       "            if (fig.image_mode == 'full') {\n",
       "                // Full images could contain transparency (where diff images\n",
       "                // almost always do), so we need to clear the canvas so that\n",
       "                // there is no ghosting.\n",
       "                fig.context.clearRect(0, 0, fig.canvas.width, fig.canvas.height);\n",
       "            }\n",
       "            fig.context.drawImage(fig.imageObj, 0, 0);\n",
       "        };\n",
       "\n",
       "    this.imageObj.onunload = function() {\n",
       "        fig.ws.close();\n",
       "    }\n",
       "\n",
       "    this.ws.onmessage = this._make_on_message_function(this);\n",
       "\n",
       "    this.ondownload = ondownload;\n",
       "}\n",
       "\n",
       "mpl.figure.prototype._init_header = function() {\n",
       "    var titlebar = $(\n",
       "        '<div class=\"ui-dialog-titlebar ui-widget-header ui-corner-all ' +\n",
       "        'ui-helper-clearfix\"/>');\n",
       "    var titletext = $(\n",
       "        '<div class=\"ui-dialog-title\" style=\"width: 100%; ' +\n",
       "        'text-align: center; padding: 3px;\"/>');\n",
       "    titlebar.append(titletext)\n",
       "    this.root.append(titlebar);\n",
       "    this.header = titletext[0];\n",
       "}\n",
       "\n",
       "\n",
       "\n",
       "mpl.figure.prototype._canvas_extra_style = function(canvas_div) {\n",
       "\n",
       "}\n",
       "\n",
       "\n",
       "mpl.figure.prototype._root_extra_style = function(canvas_div) {\n",
       "\n",
       "}\n",
       "\n",
       "mpl.figure.prototype._init_canvas = function() {\n",
       "    var fig = this;\n",
       "\n",
       "    var canvas_div = $('<div/>');\n",
       "\n",
       "    canvas_div.attr('style', 'position: relative; clear: both; outline: 0');\n",
       "\n",
       "    function canvas_keyboard_event(event) {\n",
       "        return fig.key_event(event, event['data']);\n",
       "    }\n",
       "\n",
       "    canvas_div.keydown('key_press', canvas_keyboard_event);\n",
       "    canvas_div.keyup('key_release', canvas_keyboard_event);\n",
       "    this.canvas_div = canvas_div\n",
       "    this._canvas_extra_style(canvas_div)\n",
       "    this.root.append(canvas_div);\n",
       "\n",
       "    var canvas = $('<canvas/>');\n",
       "    canvas.addClass('mpl-canvas');\n",
       "    canvas.attr('style', \"left: 0; top: 0; z-index: 0; outline: 0\")\n",
       "\n",
       "    this.canvas = canvas[0];\n",
       "    this.context = canvas[0].getContext(\"2d\");\n",
       "\n",
       "    var backingStore = this.context.backingStorePixelRatio ||\n",
       "\tthis.context.webkitBackingStorePixelRatio ||\n",
       "\tthis.context.mozBackingStorePixelRatio ||\n",
       "\tthis.context.msBackingStorePixelRatio ||\n",
       "\tthis.context.oBackingStorePixelRatio ||\n",
       "\tthis.context.backingStorePixelRatio || 1;\n",
       "\n",
       "    mpl.ratio = (window.devicePixelRatio || 1) / backingStore;\n",
       "\n",
       "    var rubberband = $('<canvas/>');\n",
       "    rubberband.attr('style', \"position: absolute; left: 0; top: 0; z-index: 1;\")\n",
       "\n",
       "    var pass_mouse_events = true;\n",
       "\n",
       "    canvas_div.resizable({\n",
       "        start: function(event, ui) {\n",
       "            pass_mouse_events = false;\n",
       "        },\n",
       "        resize: function(event, ui) {\n",
       "            fig.request_resize(ui.size.width, ui.size.height);\n",
       "        },\n",
       "        stop: function(event, ui) {\n",
       "            pass_mouse_events = true;\n",
       "            fig.request_resize(ui.size.width, ui.size.height);\n",
       "        },\n",
       "    });\n",
       "\n",
       "    function mouse_event_fn(event) {\n",
       "        if (pass_mouse_events)\n",
       "            return fig.mouse_event(event, event['data']);\n",
       "    }\n",
       "\n",
       "    rubberband.mousedown('button_press', mouse_event_fn);\n",
       "    rubberband.mouseup('button_release', mouse_event_fn);\n",
       "    // Throttle sequential mouse events to 1 every 20ms.\n",
       "    rubberband.mousemove('motion_notify', mouse_event_fn);\n",
       "\n",
       "    rubberband.mouseenter('figure_enter', mouse_event_fn);\n",
       "    rubberband.mouseleave('figure_leave', mouse_event_fn);\n",
       "\n",
       "    canvas_div.on(\"wheel\", function (event) {\n",
       "        event = event.originalEvent;\n",
       "        event['data'] = 'scroll'\n",
       "        if (event.deltaY < 0) {\n",
       "            event.step = 1;\n",
       "        } else {\n",
       "            event.step = -1;\n",
       "        }\n",
       "        mouse_event_fn(event);\n",
       "    });\n",
       "\n",
       "    canvas_div.append(canvas);\n",
       "    canvas_div.append(rubberband);\n",
       "\n",
       "    this.rubberband = rubberband;\n",
       "    this.rubberband_canvas = rubberband[0];\n",
       "    this.rubberband_context = rubberband[0].getContext(\"2d\");\n",
       "    this.rubberband_context.strokeStyle = \"#000000\";\n",
       "\n",
       "    this._resize_canvas = function(width, height) {\n",
       "        // Keep the size of the canvas, canvas container, and rubber band\n",
       "        // canvas in synch.\n",
       "        canvas_div.css('width', width)\n",
       "        canvas_div.css('height', height)\n",
       "\n",
       "        canvas.attr('width', width * mpl.ratio);\n",
       "        canvas.attr('height', height * mpl.ratio);\n",
       "        canvas.attr('style', 'width: ' + width + 'px; height: ' + height + 'px;');\n",
       "\n",
       "        rubberband.attr('width', width);\n",
       "        rubberband.attr('height', height);\n",
       "    }\n",
       "\n",
       "    // Set the figure to an initial 600x600px, this will subsequently be updated\n",
       "    // upon first draw.\n",
       "    this._resize_canvas(600, 600);\n",
       "\n",
       "    // Disable right mouse context menu.\n",
       "    $(this.rubberband_canvas).bind(\"contextmenu\",function(e){\n",
       "        return false;\n",
       "    });\n",
       "\n",
       "    function set_focus () {\n",
       "        canvas.focus();\n",
       "        canvas_div.focus();\n",
       "    }\n",
       "\n",
       "    window.setTimeout(set_focus, 100);\n",
       "}\n",
       "\n",
       "mpl.figure.prototype._init_toolbar = function() {\n",
       "    var fig = this;\n",
       "\n",
       "    var nav_element = $('<div/>');\n",
       "    nav_element.attr('style', 'width: 100%');\n",
       "    this.root.append(nav_element);\n",
       "\n",
       "    // Define a callback function for later on.\n",
       "    function toolbar_event(event) {\n",
       "        return fig.toolbar_button_onclick(event['data']);\n",
       "    }\n",
       "    function toolbar_mouse_event(event) {\n",
       "        return fig.toolbar_button_onmouseover(event['data']);\n",
       "    }\n",
       "\n",
       "    for(var toolbar_ind in mpl.toolbar_items) {\n",
       "        var name = mpl.toolbar_items[toolbar_ind][0];\n",
       "        var tooltip = mpl.toolbar_items[toolbar_ind][1];\n",
       "        var image = mpl.toolbar_items[toolbar_ind][2];\n",
       "        var method_name = mpl.toolbar_items[toolbar_ind][3];\n",
       "\n",
       "        if (!name) {\n",
       "            // put a spacer in here.\n",
       "            continue;\n",
       "        }\n",
       "        var button = $('<button/>');\n",
       "        button.addClass('ui-button ui-widget ui-state-default ui-corner-all ' +\n",
       "                        'ui-button-icon-only');\n",
       "        button.attr('role', 'button');\n",
       "        button.attr('aria-disabled', 'false');\n",
       "        button.click(method_name, toolbar_event);\n",
       "        button.mouseover(tooltip, toolbar_mouse_event);\n",
       "\n",
       "        var icon_img = $('<span/>');\n",
       "        icon_img.addClass('ui-button-icon-primary ui-icon');\n",
       "        icon_img.addClass(image);\n",
       "        icon_img.addClass('ui-corner-all');\n",
       "\n",
       "        var tooltip_span = $('<span/>');\n",
       "        tooltip_span.addClass('ui-button-text');\n",
       "        tooltip_span.html(tooltip);\n",
       "\n",
       "        button.append(icon_img);\n",
       "        button.append(tooltip_span);\n",
       "\n",
       "        nav_element.append(button);\n",
       "    }\n",
       "\n",
       "    var fmt_picker_span = $('<span/>');\n",
       "\n",
       "    var fmt_picker = $('<select/>');\n",
       "    fmt_picker.addClass('mpl-toolbar-option ui-widget ui-widget-content');\n",
       "    fmt_picker_span.append(fmt_picker);\n",
       "    nav_element.append(fmt_picker_span);\n",
       "    this.format_dropdown = fmt_picker[0];\n",
       "\n",
       "    for (var ind in mpl.extensions) {\n",
       "        var fmt = mpl.extensions[ind];\n",
       "        var option = $(\n",
       "            '<option/>', {selected: fmt === mpl.default_extension}).html(fmt);\n",
       "        fmt_picker.append(option);\n",
       "    }\n",
       "\n",
       "    // Add hover states to the ui-buttons\n",
       "    $( \".ui-button\" ).hover(\n",
       "        function() { $(this).addClass(\"ui-state-hover\");},\n",
       "        function() { $(this).removeClass(\"ui-state-hover\");}\n",
       "    );\n",
       "\n",
       "    var status_bar = $('<span class=\"mpl-message\"/>');\n",
       "    nav_element.append(status_bar);\n",
       "    this.message = status_bar[0];\n",
       "}\n",
       "\n",
       "mpl.figure.prototype.request_resize = function(x_pixels, y_pixels) {\n",
       "    // Request matplotlib to resize the figure. Matplotlib will then trigger a resize in the client,\n",
       "    // which will in turn request a refresh of the image.\n",
       "    this.send_message('resize', {'width': x_pixels, 'height': y_pixels});\n",
       "}\n",
       "\n",
       "mpl.figure.prototype.send_message = function(type, properties) {\n",
       "    properties['type'] = type;\n",
       "    properties['figure_id'] = this.id;\n",
       "    this.ws.send(JSON.stringify(properties));\n",
       "}\n",
       "\n",
       "mpl.figure.prototype.send_draw_message = function() {\n",
       "    if (!this.waiting) {\n",
       "        this.waiting = true;\n",
       "        this.ws.send(JSON.stringify({type: \"draw\", figure_id: this.id}));\n",
       "    }\n",
       "}\n",
       "\n",
       "\n",
       "mpl.figure.prototype.handle_save = function(fig, msg) {\n",
       "    var format_dropdown = fig.format_dropdown;\n",
       "    var format = format_dropdown.options[format_dropdown.selectedIndex].value;\n",
       "    fig.ondownload(fig, format);\n",
       "}\n",
       "\n",
       "\n",
       "mpl.figure.prototype.handle_resize = function(fig, msg) {\n",
       "    var size = msg['size'];\n",
       "    if (size[0] != fig.canvas.width || size[1] != fig.canvas.height) {\n",
       "        fig._resize_canvas(size[0], size[1]);\n",
       "        fig.send_message(\"refresh\", {});\n",
       "    };\n",
       "}\n",
       "\n",
       "mpl.figure.prototype.handle_rubberband = function(fig, msg) {\n",
       "    var x0 = msg['x0'] / mpl.ratio;\n",
       "    var y0 = (fig.canvas.height - msg['y0']) / mpl.ratio;\n",
       "    var x1 = msg['x1'] / mpl.ratio;\n",
       "    var y1 = (fig.canvas.height - msg['y1']) / mpl.ratio;\n",
       "    x0 = Math.floor(x0) + 0.5;\n",
       "    y0 = Math.floor(y0) + 0.5;\n",
       "    x1 = Math.floor(x1) + 0.5;\n",
       "    y1 = Math.floor(y1) + 0.5;\n",
       "    var min_x = Math.min(x0, x1);\n",
       "    var min_y = Math.min(y0, y1);\n",
       "    var width = Math.abs(x1 - x0);\n",
       "    var height = Math.abs(y1 - y0);\n",
       "\n",
       "    fig.rubberband_context.clearRect(\n",
       "        0, 0, fig.canvas.width / mpl.ratio, fig.canvas.height / mpl.ratio);\n",
       "\n",
       "    fig.rubberband_context.strokeRect(min_x, min_y, width, height);\n",
       "}\n",
       "\n",
       "mpl.figure.prototype.handle_figure_label = function(fig, msg) {\n",
       "    // Updates the figure title.\n",
       "    fig.header.textContent = msg['label'];\n",
       "}\n",
       "\n",
       "mpl.figure.prototype.handle_cursor = function(fig, msg) {\n",
       "    var cursor = msg['cursor'];\n",
       "    switch(cursor)\n",
       "    {\n",
       "    case 0:\n",
       "        cursor = 'pointer';\n",
       "        break;\n",
       "    case 1:\n",
       "        cursor = 'default';\n",
       "        break;\n",
       "    case 2:\n",
       "        cursor = 'crosshair';\n",
       "        break;\n",
       "    case 3:\n",
       "        cursor = 'move';\n",
       "        break;\n",
       "    }\n",
       "    fig.rubberband_canvas.style.cursor = cursor;\n",
       "}\n",
       "\n",
       "mpl.figure.prototype.handle_message = function(fig, msg) {\n",
       "    fig.message.textContent = msg['message'];\n",
       "}\n",
       "\n",
       "mpl.figure.prototype.handle_draw = function(fig, msg) {\n",
       "    // Request the server to send over a new figure.\n",
       "    fig.send_draw_message();\n",
       "}\n",
       "\n",
       "mpl.figure.prototype.handle_image_mode = function(fig, msg) {\n",
       "    fig.image_mode = msg['mode'];\n",
       "}\n",
       "\n",
       "mpl.figure.prototype.updated_canvas_event = function() {\n",
       "    // Called whenever the canvas gets updated.\n",
       "    this.send_message(\"ack\", {});\n",
       "}\n",
       "\n",
       "// A function to construct a web socket function for onmessage handling.\n",
       "// Called in the figure constructor.\n",
       "mpl.figure.prototype._make_on_message_function = function(fig) {\n",
       "    return function socket_on_message(evt) {\n",
       "        if (evt.data instanceof Blob) {\n",
       "            /* FIXME: We get \"Resource interpreted as Image but\n",
       "             * transferred with MIME type text/plain:\" errors on\n",
       "             * Chrome.  But how to set the MIME type?  It doesn't seem\n",
       "             * to be part of the websocket stream */\n",
       "            evt.data.type = \"image/png\";\n",
       "\n",
       "            /* Free the memory for the previous frames */\n",
       "            if (fig.imageObj.src) {\n",
       "                (window.URL || window.webkitURL).revokeObjectURL(\n",
       "                    fig.imageObj.src);\n",
       "            }\n",
       "\n",
       "            fig.imageObj.src = (window.URL || window.webkitURL).createObjectURL(\n",
       "                evt.data);\n",
       "            fig.updated_canvas_event();\n",
       "            fig.waiting = false;\n",
       "            return;\n",
       "        }\n",
       "        else if (typeof evt.data === 'string' && evt.data.slice(0, 21) == \"data:image/png;base64\") {\n",
       "            fig.imageObj.src = evt.data;\n",
       "            fig.updated_canvas_event();\n",
       "            fig.waiting = false;\n",
       "            return;\n",
       "        }\n",
       "\n",
       "        var msg = JSON.parse(evt.data);\n",
       "        var msg_type = msg['type'];\n",
       "\n",
       "        // Call the  \"handle_{type}\" callback, which takes\n",
       "        // the figure and JSON message as its only arguments.\n",
       "        try {\n",
       "            var callback = fig[\"handle_\" + msg_type];\n",
       "        } catch (e) {\n",
       "            console.log(\"No handler for the '\" + msg_type + \"' message type: \", msg);\n",
       "            return;\n",
       "        }\n",
       "\n",
       "        if (callback) {\n",
       "            try {\n",
       "                // console.log(\"Handling '\" + msg_type + \"' message: \", msg);\n",
       "                callback(fig, msg);\n",
       "            } catch (e) {\n",
       "                console.log(\"Exception inside the 'handler_\" + msg_type + \"' callback:\", e, e.stack, msg);\n",
       "            }\n",
       "        }\n",
       "    };\n",
       "}\n",
       "\n",
       "// from http://stackoverflow.com/questions/1114465/getting-mouse-location-in-canvas\n",
       "mpl.findpos = function(e) {\n",
       "    //this section is from http://www.quirksmode.org/js/events_properties.html\n",
       "    var targ;\n",
       "    if (!e)\n",
       "        e = window.event;\n",
       "    if (e.target)\n",
       "        targ = e.target;\n",
       "    else if (e.srcElement)\n",
       "        targ = e.srcElement;\n",
       "    if (targ.nodeType == 3) // defeat Safari bug\n",
       "        targ = targ.parentNode;\n",
       "\n",
       "    // jQuery normalizes the pageX and pageY\n",
       "    // pageX,Y are the mouse positions relative to the document\n",
       "    // offset() returns the position of the element relative to the document\n",
       "    var x = e.pageX - $(targ).offset().left;\n",
       "    var y = e.pageY - $(targ).offset().top;\n",
       "\n",
       "    return {\"x\": x, \"y\": y};\n",
       "};\n",
       "\n",
       "/*\n",
       " * return a copy of an object with only non-object keys\n",
       " * we need this to avoid circular references\n",
       " * http://stackoverflow.com/a/24161582/3208463\n",
       " */\n",
       "function simpleKeys (original) {\n",
       "  return Object.keys(original).reduce(function (obj, key) {\n",
       "    if (typeof original[key] !== 'object')\n",
       "        obj[key] = original[key]\n",
       "    return obj;\n",
       "  }, {});\n",
       "}\n",
       "\n",
       "mpl.figure.prototype.mouse_event = function(event, name) {\n",
       "    var canvas_pos = mpl.findpos(event)\n",
       "\n",
       "    if (name === 'button_press')\n",
       "    {\n",
       "        this.canvas.focus();\n",
       "        this.canvas_div.focus();\n",
       "    }\n",
       "\n",
       "    var x = canvas_pos.x * mpl.ratio;\n",
       "    var y = canvas_pos.y * mpl.ratio;\n",
       "\n",
       "    this.send_message(name, {x: x, y: y, button: event.button,\n",
       "                             step: event.step,\n",
       "                             guiEvent: simpleKeys(event)});\n",
       "\n",
       "    /* This prevents the web browser from automatically changing to\n",
       "     * the text insertion cursor when the button is pressed.  We want\n",
       "     * to control all of the cursor setting manually through the\n",
       "     * 'cursor' event from matplotlib */\n",
       "    event.preventDefault();\n",
       "    return false;\n",
       "}\n",
       "\n",
       "mpl.figure.prototype._key_event_extra = function(event, name) {\n",
       "    // Handle any extra behaviour associated with a key event\n",
       "}\n",
       "\n",
       "mpl.figure.prototype.key_event = function(event, name) {\n",
       "\n",
       "    // Prevent repeat events\n",
       "    if (name == 'key_press')\n",
       "    {\n",
       "        if (event.which === this._key)\n",
       "            return;\n",
       "        else\n",
       "            this._key = event.which;\n",
       "    }\n",
       "    if (name == 'key_release')\n",
       "        this._key = null;\n",
       "\n",
       "    var value = '';\n",
       "    if (event.ctrlKey && event.which != 17)\n",
       "        value += \"ctrl+\";\n",
       "    if (event.altKey && event.which != 18)\n",
       "        value += \"alt+\";\n",
       "    if (event.shiftKey && event.which != 16)\n",
       "        value += \"shift+\";\n",
       "\n",
       "    value += 'k';\n",
       "    value += event.which.toString();\n",
       "\n",
       "    this._key_event_extra(event, name);\n",
       "\n",
       "    this.send_message(name, {key: value,\n",
       "                             guiEvent: simpleKeys(event)});\n",
       "    return false;\n",
       "}\n",
       "\n",
       "mpl.figure.prototype.toolbar_button_onclick = function(name) {\n",
       "    if (name == 'download') {\n",
       "        this.handle_save(this, null);\n",
       "    } else {\n",
       "        this.send_message(\"toolbar_button\", {name: name});\n",
       "    }\n",
       "};\n",
       "\n",
       "mpl.figure.prototype.toolbar_button_onmouseover = function(tooltip) {\n",
       "    this.message.textContent = tooltip;\n",
       "};\n",
       "mpl.toolbar_items = [[\"Home\", \"Reset original view\", \"fa fa-home icon-home\", \"home\"], [\"Back\", \"Back to previous view\", \"fa fa-arrow-left icon-arrow-left\", \"back\"], [\"Forward\", \"Forward to next view\", \"fa fa-arrow-right icon-arrow-right\", \"forward\"], [\"\", \"\", \"\", \"\"], [\"Pan\", \"Pan axes with left mouse, zoom with right\", \"fa fa-arrows icon-move\", \"pan\"], [\"Zoom\", \"Zoom to rectangle\", \"fa fa-square-o icon-check-empty\", \"zoom\"], [\"\", \"\", \"\", \"\"], [\"Download\", \"Download plot\", \"fa fa-floppy-o icon-save\", \"download\"]];\n",
       "\n",
       "mpl.extensions = [\"eps\", \"jpeg\", \"pdf\", \"png\", \"ps\", \"raw\", \"svg\", \"tif\"];\n",
       "\n",
       "mpl.default_extension = \"png\";var comm_websocket_adapter = function(comm) {\n",
       "    // Create a \"websocket\"-like object which calls the given IPython comm\n",
       "    // object with the appropriate methods. Currently this is a non binary\n",
       "    // socket, so there is still some room for performance tuning.\n",
       "    var ws = {};\n",
       "\n",
       "    ws.close = function() {\n",
       "        comm.close()\n",
       "    };\n",
       "    ws.send = function(m) {\n",
       "        //console.log('sending', m);\n",
       "        comm.send(m);\n",
       "    };\n",
       "    // Register the callback with on_msg.\n",
       "    comm.on_msg(function(msg) {\n",
       "        //console.log('receiving', msg['content']['data'], msg);\n",
       "        // Pass the mpl event to the overridden (by mpl) onmessage function.\n",
       "        ws.onmessage(msg['content']['data'])\n",
       "    });\n",
       "    return ws;\n",
       "}\n",
       "\n",
       "mpl.mpl_figure_comm = function(comm, msg) {\n",
       "    // This is the function which gets called when the mpl process\n",
       "    // starts-up an IPython Comm through the \"matplotlib\" channel.\n",
       "\n",
       "    var id = msg.content.data.id;\n",
       "    // Get hold of the div created by the display call when the Comm\n",
       "    // socket was opened in Python.\n",
       "    var element = $(\"#\" + id);\n",
       "    var ws_proxy = comm_websocket_adapter(comm)\n",
       "\n",
       "    function ondownload(figure, format) {\n",
       "        window.open(figure.imageObj.src);\n",
       "    }\n",
       "\n",
       "    var fig = new mpl.figure(id, ws_proxy,\n",
       "                           ondownload,\n",
       "                           element.get(0));\n",
       "\n",
       "    // Call onopen now - mpl needs it, as it is assuming we've passed it a real\n",
       "    // web socket which is closed, not our websocket->open comm proxy.\n",
       "    ws_proxy.onopen();\n",
       "\n",
       "    fig.parent_element = element.get(0);\n",
       "    fig.cell_info = mpl.find_output_cell(\"<div id='\" + id + \"'></div>\");\n",
       "    if (!fig.cell_info) {\n",
       "        console.error(\"Failed to find cell for figure\", id, fig);\n",
       "        return;\n",
       "    }\n",
       "\n",
       "    var output_index = fig.cell_info[2]\n",
       "    var cell = fig.cell_info[0];\n",
       "\n",
       "};\n",
       "\n",
       "mpl.figure.prototype.handle_close = function(fig, msg) {\n",
       "    var width = fig.canvas.width/mpl.ratio\n",
       "    fig.root.unbind('remove')\n",
       "\n",
       "    // Update the output cell to use the data from the current canvas.\n",
       "    fig.push_to_output();\n",
       "    var dataURL = fig.canvas.toDataURL();\n",
       "    // Re-enable the keyboard manager in IPython - without this line, in FF,\n",
       "    // the notebook keyboard shortcuts fail.\n",
       "    IPython.keyboard_manager.enable()\n",
       "    $(fig.parent_element).html('<img src=\"' + dataURL + '\" width=\"' + width + '\">');\n",
       "    fig.close_ws(fig, msg);\n",
       "}\n",
       "\n",
       "mpl.figure.prototype.close_ws = function(fig, msg){\n",
       "    fig.send_message('closing', msg);\n",
       "    // fig.ws.close()\n",
       "}\n",
       "\n",
       "mpl.figure.prototype.push_to_output = function(remove_interactive) {\n",
       "    // Turn the data on the canvas into data in the output cell.\n",
       "    var width = this.canvas.width/mpl.ratio\n",
       "    var dataURL = this.canvas.toDataURL();\n",
       "    this.cell_info[1]['text/html'] = '<img src=\"' + dataURL + '\" width=\"' + width + '\">';\n",
       "}\n",
       "\n",
       "mpl.figure.prototype.updated_canvas_event = function() {\n",
       "    // Tell IPython that the notebook contents must change.\n",
       "    IPython.notebook.set_dirty(true);\n",
       "    this.send_message(\"ack\", {});\n",
       "    var fig = this;\n",
       "    // Wait a second, then push the new image to the DOM so\n",
       "    // that it is saved nicely (might be nice to debounce this).\n",
       "    setTimeout(function () { fig.push_to_output() }, 1000);\n",
       "}\n",
       "\n",
       "mpl.figure.prototype._init_toolbar = function() {\n",
       "    var fig = this;\n",
       "\n",
       "    var nav_element = $('<div/>');\n",
       "    nav_element.attr('style', 'width: 100%');\n",
       "    this.root.append(nav_element);\n",
       "\n",
       "    // Define a callback function for later on.\n",
       "    function toolbar_event(event) {\n",
       "        return fig.toolbar_button_onclick(event['data']);\n",
       "    }\n",
       "    function toolbar_mouse_event(event) {\n",
       "        return fig.toolbar_button_onmouseover(event['data']);\n",
       "    }\n",
       "\n",
       "    for(var toolbar_ind in mpl.toolbar_items){\n",
       "        var name = mpl.toolbar_items[toolbar_ind][0];\n",
       "        var tooltip = mpl.toolbar_items[toolbar_ind][1];\n",
       "        var image = mpl.toolbar_items[toolbar_ind][2];\n",
       "        var method_name = mpl.toolbar_items[toolbar_ind][3];\n",
       "\n",
       "        if (!name) { continue; };\n",
       "\n",
       "        var button = $('<button class=\"btn btn-default\" href=\"#\" title=\"' + name + '\"><i class=\"fa ' + image + ' fa-lg\"></i></button>');\n",
       "        button.click(method_name, toolbar_event);\n",
       "        button.mouseover(tooltip, toolbar_mouse_event);\n",
       "        nav_element.append(button);\n",
       "    }\n",
       "\n",
       "    // Add the status bar.\n",
       "    var status_bar = $('<span class=\"mpl-message\" style=\"text-align:right; float: right;\"/>');\n",
       "    nav_element.append(status_bar);\n",
       "    this.message = status_bar[0];\n",
       "\n",
       "    // Add the close button to the window.\n",
       "    var buttongrp = $('<div class=\"btn-group inline pull-right\"></div>');\n",
       "    var button = $('<button class=\"btn btn-mini btn-primary\" href=\"#\" title=\"Stop Interaction\"><i class=\"fa fa-power-off icon-remove icon-large\"></i></button>');\n",
       "    button.click(function (evt) { fig.handle_close(fig, {}); } );\n",
       "    button.mouseover('Stop Interaction', toolbar_mouse_event);\n",
       "    buttongrp.append(button);\n",
       "    var titlebar = this.root.find($('.ui-dialog-titlebar'));\n",
       "    titlebar.prepend(buttongrp);\n",
       "}\n",
       "\n",
       "mpl.figure.prototype._root_extra_style = function(el){\n",
       "    var fig = this\n",
       "    el.on(\"remove\", function(){\n",
       "\tfig.close_ws(fig, {});\n",
       "    });\n",
       "}\n",
       "\n",
       "mpl.figure.prototype._canvas_extra_style = function(el){\n",
       "    // this is important to make the div 'focusable\n",
       "    el.attr('tabindex', 0)\n",
       "    // reach out to IPython and tell the keyboard manager to turn it's self\n",
       "    // off when our div gets focus\n",
       "\n",
       "    // location in version 3\n",
       "    if (IPython.notebook.keyboard_manager) {\n",
       "        IPython.notebook.keyboard_manager.register_events(el);\n",
       "    }\n",
       "    else {\n",
       "        // location in version 2\n",
       "        IPython.keyboard_manager.register_events(el);\n",
       "    }\n",
       "\n",
       "}\n",
       "\n",
       "mpl.figure.prototype._key_event_extra = function(event, name) {\n",
       "    var manager = IPython.notebook.keyboard_manager;\n",
       "    if (!manager)\n",
       "        manager = IPython.keyboard_manager;\n",
       "\n",
       "    // Check for shift+enter\n",
       "    if (event.shiftKey && event.which == 13) {\n",
       "        this.canvas_div.blur();\n",
       "        event.shiftKey = false;\n",
       "        // Send a \"J\" for go to next cell\n",
       "        event.which = 74;\n",
       "        event.keyCode = 74;\n",
       "        manager.command_mode();\n",
       "        manager.handle_keydown(event);\n",
       "    }\n",
       "}\n",
       "\n",
       "mpl.figure.prototype.handle_save = function(fig, msg) {\n",
       "    fig.ondownload(fig, null);\n",
       "}\n",
       "\n",
       "\n",
       "mpl.find_output_cell = function(html_output) {\n",
       "    // Return the cell and output element which can be found *uniquely* in the notebook.\n",
       "    // Note - this is a bit hacky, but it is done because the \"notebook_saving.Notebook\"\n",
       "    // IPython event is triggered only after the cells have been serialised, which for\n",
       "    // our purposes (turning an active figure into a static one), is too late.\n",
       "    var cells = IPython.notebook.get_cells();\n",
       "    var ncells = cells.length;\n",
       "    for (var i=0; i<ncells; i++) {\n",
       "        var cell = cells[i];\n",
       "        if (cell.cell_type === 'code'){\n",
       "            for (var j=0; j<cell.output_area.outputs.length; j++) {\n",
       "                var data = cell.output_area.outputs[j];\n",
       "                if (data.data) {\n",
       "                    // IPython >= 3 moved mimebundle to data attribute of output\n",
       "                    data = data.data;\n",
       "                }\n",
       "                if (data['text/html'] == html_output) {\n",
       "                    return [cell, data, j];\n",
       "                }\n",
       "            }\n",
       "        }\n",
       "    }\n",
       "}\n",
       "\n",
       "// Register the function which deals with the matplotlib target/channel.\n",
       "// The kernel may be null if the page has been refreshed.\n",
       "if (IPython.notebook.kernel != null) {\n",
       "    IPython.notebook.kernel.comm_manager.register_target('matplotlib', mpl.mpl_figure_comm);\n",
       "}\n"
      ],
      "text/plain": [
       "<IPython.core.display.Javascript object>"
      ]
     },
     "metadata": {},
     "output_type": "display_data"
    },
    {
     "data": {
      "text/html": [
       "<img src=\"data:image/png;base64,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\" width=\"799\">"
      ],
      "text/plain": [
       "<IPython.core.display.HTML object>"
      ]
     },
     "metadata": {},
     "output_type": "display_data"
    }
   ],
   "source": [
    "slp2.plot_interactive()"
   ]
  },
  {
   "cell_type": "markdown",
   "metadata": {},
   "source": [
    "To create proper profile objects for plotting at a particular energy, you use the `get_profile` command and provide the energy and integration window. This will return a Profile object which is identical to intensity profiles in images. You can then make plots as was shown early on in this document."
   ]
  },
  {
   "cell_type": "code",
   "execution_count": 72,
   "metadata": {},
   "outputs": [],
   "source": [
    "prof_651 = slp2.get_profile(6.51, 1)"
   ]
  },
  {
   "cell_type": "code",
   "execution_count": 73,
   "metadata": {},
   "outputs": [
    {
     "data": {
      "application/javascript": [
       "/* Put everything inside the global mpl namespace */\n",
       "window.mpl = {};\n",
       "\n",
       "\n",
       "mpl.get_websocket_type = function() {\n",
       "    if (typeof(WebSocket) !== 'undefined') {\n",
       "        return WebSocket;\n",
       "    } else if (typeof(MozWebSocket) !== 'undefined') {\n",
       "        return MozWebSocket;\n",
       "    } else {\n",
       "        alert('Your browser does not have WebSocket support. ' +\n",
       "              'Please try Chrome, Safari or Firefox ≥ 6. ' +\n",
       "              'Firefox 4 and 5 are also supported but you ' +\n",
       "              'have to enable WebSockets in about:config.');\n",
       "    };\n",
       "}\n",
       "\n",
       "mpl.figure = function(figure_id, websocket, ondownload, parent_element) {\n",
       "    this.id = figure_id;\n",
       "\n",
       "    this.ws = websocket;\n",
       "\n",
       "    this.supports_binary = (this.ws.binaryType != undefined);\n",
       "\n",
       "    if (!this.supports_binary) {\n",
       "        var warnings = document.getElementById(\"mpl-warnings\");\n",
       "        if (warnings) {\n",
       "            warnings.style.display = 'block';\n",
       "            warnings.textContent = (\n",
       "                \"This browser does not support binary websocket messages. \" +\n",
       "                    \"Performance may be slow.\");\n",
       "        }\n",
       "    }\n",
       "\n",
       "    this.imageObj = new Image();\n",
       "\n",
       "    this.context = undefined;\n",
       "    this.message = undefined;\n",
       "    this.canvas = undefined;\n",
       "    this.rubberband_canvas = undefined;\n",
       "    this.rubberband_context = undefined;\n",
       "    this.format_dropdown = undefined;\n",
       "\n",
       "    this.image_mode = 'full';\n",
       "\n",
       "    this.root = $('<div/>');\n",
       "    this._root_extra_style(this.root)\n",
       "    this.root.attr('style', 'display: inline-block');\n",
       "\n",
       "    $(parent_element).append(this.root);\n",
       "\n",
       "    this._init_header(this);\n",
       "    this._init_canvas(this);\n",
       "    this._init_toolbar(this);\n",
       "\n",
       "    var fig = this;\n",
       "\n",
       "    this.waiting = false;\n",
       "\n",
       "    this.ws.onopen =  function () {\n",
       "            fig.send_message(\"supports_binary\", {value: fig.supports_binary});\n",
       "            fig.send_message(\"send_image_mode\", {});\n",
       "            if (mpl.ratio != 1) {\n",
       "                fig.send_message(\"set_dpi_ratio\", {'dpi_ratio': mpl.ratio});\n",
       "            }\n",
       "            fig.send_message(\"refresh\", {});\n",
       "        }\n",
       "\n",
       "    this.imageObj.onload = function() {\n",
       "            if (fig.image_mode == 'full') {\n",
       "                // Full images could contain transparency (where diff images\n",
       "                // almost always do), so we need to clear the canvas so that\n",
       "                // there is no ghosting.\n",
       "                fig.context.clearRect(0, 0, fig.canvas.width, fig.canvas.height);\n",
       "            }\n",
       "            fig.context.drawImage(fig.imageObj, 0, 0);\n",
       "        };\n",
       "\n",
       "    this.imageObj.onunload = function() {\n",
       "        fig.ws.close();\n",
       "    }\n",
       "\n",
       "    this.ws.onmessage = this._make_on_message_function(this);\n",
       "\n",
       "    this.ondownload = ondownload;\n",
       "}\n",
       "\n",
       "mpl.figure.prototype._init_header = function() {\n",
       "    var titlebar = $(\n",
       "        '<div class=\"ui-dialog-titlebar ui-widget-header ui-corner-all ' +\n",
       "        'ui-helper-clearfix\"/>');\n",
       "    var titletext = $(\n",
       "        '<div class=\"ui-dialog-title\" style=\"width: 100%; ' +\n",
       "        'text-align: center; padding: 3px;\"/>');\n",
       "    titlebar.append(titletext)\n",
       "    this.root.append(titlebar);\n",
       "    this.header = titletext[0];\n",
       "}\n",
       "\n",
       "\n",
       "\n",
       "mpl.figure.prototype._canvas_extra_style = function(canvas_div) {\n",
       "\n",
       "}\n",
       "\n",
       "\n",
       "mpl.figure.prototype._root_extra_style = function(canvas_div) {\n",
       "\n",
       "}\n",
       "\n",
       "mpl.figure.prototype._init_canvas = function() {\n",
       "    var fig = this;\n",
       "\n",
       "    var canvas_div = $('<div/>');\n",
       "\n",
       "    canvas_div.attr('style', 'position: relative; clear: both; outline: 0');\n",
       "\n",
       "    function canvas_keyboard_event(event) {\n",
       "        return fig.key_event(event, event['data']);\n",
       "    }\n",
       "\n",
       "    canvas_div.keydown('key_press', canvas_keyboard_event);\n",
       "    canvas_div.keyup('key_release', canvas_keyboard_event);\n",
       "    this.canvas_div = canvas_div\n",
       "    this._canvas_extra_style(canvas_div)\n",
       "    this.root.append(canvas_div);\n",
       "\n",
       "    var canvas = $('<canvas/>');\n",
       "    canvas.addClass('mpl-canvas');\n",
       "    canvas.attr('style', \"left: 0; top: 0; z-index: 0; outline: 0\")\n",
       "\n",
       "    this.canvas = canvas[0];\n",
       "    this.context = canvas[0].getContext(\"2d\");\n",
       "\n",
       "    var backingStore = this.context.backingStorePixelRatio ||\n",
       "\tthis.context.webkitBackingStorePixelRatio ||\n",
       "\tthis.context.mozBackingStorePixelRatio ||\n",
       "\tthis.context.msBackingStorePixelRatio ||\n",
       "\tthis.context.oBackingStorePixelRatio ||\n",
       "\tthis.context.backingStorePixelRatio || 1;\n",
       "\n",
       "    mpl.ratio = (window.devicePixelRatio || 1) / backingStore;\n",
       "\n",
       "    var rubberband = $('<canvas/>');\n",
       "    rubberband.attr('style', \"position: absolute; left: 0; top: 0; z-index: 1;\")\n",
       "\n",
       "    var pass_mouse_events = true;\n",
       "\n",
       "    canvas_div.resizable({\n",
       "        start: function(event, ui) {\n",
       "            pass_mouse_events = false;\n",
       "        },\n",
       "        resize: function(event, ui) {\n",
       "            fig.request_resize(ui.size.width, ui.size.height);\n",
       "        },\n",
       "        stop: function(event, ui) {\n",
       "            pass_mouse_events = true;\n",
       "            fig.request_resize(ui.size.width, ui.size.height);\n",
       "        },\n",
       "    });\n",
       "\n",
       "    function mouse_event_fn(event) {\n",
       "        if (pass_mouse_events)\n",
       "            return fig.mouse_event(event, event['data']);\n",
       "    }\n",
       "\n",
       "    rubberband.mousedown('button_press', mouse_event_fn);\n",
       "    rubberband.mouseup('button_release', mouse_event_fn);\n",
       "    // Throttle sequential mouse events to 1 every 20ms.\n",
       "    rubberband.mousemove('motion_notify', mouse_event_fn);\n",
       "\n",
       "    rubberband.mouseenter('figure_enter', mouse_event_fn);\n",
       "    rubberband.mouseleave('figure_leave', mouse_event_fn);\n",
       "\n",
       "    canvas_div.on(\"wheel\", function (event) {\n",
       "        event = event.originalEvent;\n",
       "        event['data'] = 'scroll'\n",
       "        if (event.deltaY < 0) {\n",
       "            event.step = 1;\n",
       "        } else {\n",
       "            event.step = -1;\n",
       "        }\n",
       "        mouse_event_fn(event);\n",
       "    });\n",
       "\n",
       "    canvas_div.append(canvas);\n",
       "    canvas_div.append(rubberband);\n",
       "\n",
       "    this.rubberband = rubberband;\n",
       "    this.rubberband_canvas = rubberband[0];\n",
       "    this.rubberband_context = rubberband[0].getContext(\"2d\");\n",
       "    this.rubberband_context.strokeStyle = \"#000000\";\n",
       "\n",
       "    this._resize_canvas = function(width, height) {\n",
       "        // Keep the size of the canvas, canvas container, and rubber band\n",
       "        // canvas in synch.\n",
       "        canvas_div.css('width', width)\n",
       "        canvas_div.css('height', height)\n",
       "\n",
       "        canvas.attr('width', width * mpl.ratio);\n",
       "        canvas.attr('height', height * mpl.ratio);\n",
       "        canvas.attr('style', 'width: ' + width + 'px; height: ' + height + 'px;');\n",
       "\n",
       "        rubberband.attr('width', width);\n",
       "        rubberband.attr('height', height);\n",
       "    }\n",
       "\n",
       "    // Set the figure to an initial 600x600px, this will subsequently be updated\n",
       "    // upon first draw.\n",
       "    this._resize_canvas(600, 600);\n",
       "\n",
       "    // Disable right mouse context menu.\n",
       "    $(this.rubberband_canvas).bind(\"contextmenu\",function(e){\n",
       "        return false;\n",
       "    });\n",
       "\n",
       "    function set_focus () {\n",
       "        canvas.focus();\n",
       "        canvas_div.focus();\n",
       "    }\n",
       "\n",
       "    window.setTimeout(set_focus, 100);\n",
       "}\n",
       "\n",
       "mpl.figure.prototype._init_toolbar = function() {\n",
       "    var fig = this;\n",
       "\n",
       "    var nav_element = $('<div/>');\n",
       "    nav_element.attr('style', 'width: 100%');\n",
       "    this.root.append(nav_element);\n",
       "\n",
       "    // Define a callback function for later on.\n",
       "    function toolbar_event(event) {\n",
       "        return fig.toolbar_button_onclick(event['data']);\n",
       "    }\n",
       "    function toolbar_mouse_event(event) {\n",
       "        return fig.toolbar_button_onmouseover(event['data']);\n",
       "    }\n",
       "\n",
       "    for(var toolbar_ind in mpl.toolbar_items) {\n",
       "        var name = mpl.toolbar_items[toolbar_ind][0];\n",
       "        var tooltip = mpl.toolbar_items[toolbar_ind][1];\n",
       "        var image = mpl.toolbar_items[toolbar_ind][2];\n",
       "        var method_name = mpl.toolbar_items[toolbar_ind][3];\n",
       "\n",
       "        if (!name) {\n",
       "            // put a spacer in here.\n",
       "            continue;\n",
       "        }\n",
       "        var button = $('<button/>');\n",
       "        button.addClass('ui-button ui-widget ui-state-default ui-corner-all ' +\n",
       "                        'ui-button-icon-only');\n",
       "        button.attr('role', 'button');\n",
       "        button.attr('aria-disabled', 'false');\n",
       "        button.click(method_name, toolbar_event);\n",
       "        button.mouseover(tooltip, toolbar_mouse_event);\n",
       "\n",
       "        var icon_img = $('<span/>');\n",
       "        icon_img.addClass('ui-button-icon-primary ui-icon');\n",
       "        icon_img.addClass(image);\n",
       "        icon_img.addClass('ui-corner-all');\n",
       "\n",
       "        var tooltip_span = $('<span/>');\n",
       "        tooltip_span.addClass('ui-button-text');\n",
       "        tooltip_span.html(tooltip);\n",
       "\n",
       "        button.append(icon_img);\n",
       "        button.append(tooltip_span);\n",
       "\n",
       "        nav_element.append(button);\n",
       "    }\n",
       "\n",
       "    var fmt_picker_span = $('<span/>');\n",
       "\n",
       "    var fmt_picker = $('<select/>');\n",
       "    fmt_picker.addClass('mpl-toolbar-option ui-widget ui-widget-content');\n",
       "    fmt_picker_span.append(fmt_picker);\n",
       "    nav_element.append(fmt_picker_span);\n",
       "    this.format_dropdown = fmt_picker[0];\n",
       "\n",
       "    for (var ind in mpl.extensions) {\n",
       "        var fmt = mpl.extensions[ind];\n",
       "        var option = $(\n",
       "            '<option/>', {selected: fmt === mpl.default_extension}).html(fmt);\n",
       "        fmt_picker.append(option);\n",
       "    }\n",
       "\n",
       "    // Add hover states to the ui-buttons\n",
       "    $( \".ui-button\" ).hover(\n",
       "        function() { $(this).addClass(\"ui-state-hover\");},\n",
       "        function() { $(this).removeClass(\"ui-state-hover\");}\n",
       "    );\n",
       "\n",
       "    var status_bar = $('<span class=\"mpl-message\"/>');\n",
       "    nav_element.append(status_bar);\n",
       "    this.message = status_bar[0];\n",
       "}\n",
       "\n",
       "mpl.figure.prototype.request_resize = function(x_pixels, y_pixels) {\n",
       "    // Request matplotlib to resize the figure. Matplotlib will then trigger a resize in the client,\n",
       "    // which will in turn request a refresh of the image.\n",
       "    this.send_message('resize', {'width': x_pixels, 'height': y_pixels});\n",
       "}\n",
       "\n",
       "mpl.figure.prototype.send_message = function(type, properties) {\n",
       "    properties['type'] = type;\n",
       "    properties['figure_id'] = this.id;\n",
       "    this.ws.send(JSON.stringify(properties));\n",
       "}\n",
       "\n",
       "mpl.figure.prototype.send_draw_message = function() {\n",
       "    if (!this.waiting) {\n",
       "        this.waiting = true;\n",
       "        this.ws.send(JSON.stringify({type: \"draw\", figure_id: this.id}));\n",
       "    }\n",
       "}\n",
       "\n",
       "\n",
       "mpl.figure.prototype.handle_save = function(fig, msg) {\n",
       "    var format_dropdown = fig.format_dropdown;\n",
       "    var format = format_dropdown.options[format_dropdown.selectedIndex].value;\n",
       "    fig.ondownload(fig, format);\n",
       "}\n",
       "\n",
       "\n",
       "mpl.figure.prototype.handle_resize = function(fig, msg) {\n",
       "    var size = msg['size'];\n",
       "    if (size[0] != fig.canvas.width || size[1] != fig.canvas.height) {\n",
       "        fig._resize_canvas(size[0], size[1]);\n",
       "        fig.send_message(\"refresh\", {});\n",
       "    };\n",
       "}\n",
       "\n",
       "mpl.figure.prototype.handle_rubberband = function(fig, msg) {\n",
       "    var x0 = msg['x0'] / mpl.ratio;\n",
       "    var y0 = (fig.canvas.height - msg['y0']) / mpl.ratio;\n",
       "    var x1 = msg['x1'] / mpl.ratio;\n",
       "    var y1 = (fig.canvas.height - msg['y1']) / mpl.ratio;\n",
       "    x0 = Math.floor(x0) + 0.5;\n",
       "    y0 = Math.floor(y0) + 0.5;\n",
       "    x1 = Math.floor(x1) + 0.5;\n",
       "    y1 = Math.floor(y1) + 0.5;\n",
       "    var min_x = Math.min(x0, x1);\n",
       "    var min_y = Math.min(y0, y1);\n",
       "    var width = Math.abs(x1 - x0);\n",
       "    var height = Math.abs(y1 - y0);\n",
       "\n",
       "    fig.rubberband_context.clearRect(\n",
       "        0, 0, fig.canvas.width / mpl.ratio, fig.canvas.height / mpl.ratio);\n",
       "\n",
       "    fig.rubberband_context.strokeRect(min_x, min_y, width, height);\n",
       "}\n",
       "\n",
       "mpl.figure.prototype.handle_figure_label = function(fig, msg) {\n",
       "    // Updates the figure title.\n",
       "    fig.header.textContent = msg['label'];\n",
       "}\n",
       "\n",
       "mpl.figure.prototype.handle_cursor = function(fig, msg) {\n",
       "    var cursor = msg['cursor'];\n",
       "    switch(cursor)\n",
       "    {\n",
       "    case 0:\n",
       "        cursor = 'pointer';\n",
       "        break;\n",
       "    case 1:\n",
       "        cursor = 'default';\n",
       "        break;\n",
       "    case 2:\n",
       "        cursor = 'crosshair';\n",
       "        break;\n",
       "    case 3:\n",
       "        cursor = 'move';\n",
       "        break;\n",
       "    }\n",
       "    fig.rubberband_canvas.style.cursor = cursor;\n",
       "}\n",
       "\n",
       "mpl.figure.prototype.handle_message = function(fig, msg) {\n",
       "    fig.message.textContent = msg['message'];\n",
       "}\n",
       "\n",
       "mpl.figure.prototype.handle_draw = function(fig, msg) {\n",
       "    // Request the server to send over a new figure.\n",
       "    fig.send_draw_message();\n",
       "}\n",
       "\n",
       "mpl.figure.prototype.handle_image_mode = function(fig, msg) {\n",
       "    fig.image_mode = msg['mode'];\n",
       "}\n",
       "\n",
       "mpl.figure.prototype.updated_canvas_event = function() {\n",
       "    // Called whenever the canvas gets updated.\n",
       "    this.send_message(\"ack\", {});\n",
       "}\n",
       "\n",
       "// A function to construct a web socket function for onmessage handling.\n",
       "// Called in the figure constructor.\n",
       "mpl.figure.prototype._make_on_message_function = function(fig) {\n",
       "    return function socket_on_message(evt) {\n",
       "        if (evt.data instanceof Blob) {\n",
       "            /* FIXME: We get \"Resource interpreted as Image but\n",
       "             * transferred with MIME type text/plain:\" errors on\n",
       "             * Chrome.  But how to set the MIME type?  It doesn't seem\n",
       "             * to be part of the websocket stream */\n",
       "            evt.data.type = \"image/png\";\n",
       "\n",
       "            /* Free the memory for the previous frames */\n",
       "            if (fig.imageObj.src) {\n",
       "                (window.URL || window.webkitURL).revokeObjectURL(\n",
       "                    fig.imageObj.src);\n",
       "            }\n",
       "\n",
       "            fig.imageObj.src = (window.URL || window.webkitURL).createObjectURL(\n",
       "                evt.data);\n",
       "            fig.updated_canvas_event();\n",
       "            fig.waiting = false;\n",
       "            return;\n",
       "        }\n",
       "        else if (typeof evt.data === 'string' && evt.data.slice(0, 21) == \"data:image/png;base64\") {\n",
       "            fig.imageObj.src = evt.data;\n",
       "            fig.updated_canvas_event();\n",
       "            fig.waiting = false;\n",
       "            return;\n",
       "        }\n",
       "\n",
       "        var msg = JSON.parse(evt.data);\n",
       "        var msg_type = msg['type'];\n",
       "\n",
       "        // Call the  \"handle_{type}\" callback, which takes\n",
       "        // the figure and JSON message as its only arguments.\n",
       "        try {\n",
       "            var callback = fig[\"handle_\" + msg_type];\n",
       "        } catch (e) {\n",
       "            console.log(\"No handler for the '\" + msg_type + \"' message type: \", msg);\n",
       "            return;\n",
       "        }\n",
       "\n",
       "        if (callback) {\n",
       "            try {\n",
       "                // console.log(\"Handling '\" + msg_type + \"' message: \", msg);\n",
       "                callback(fig, msg);\n",
       "            } catch (e) {\n",
       "                console.log(\"Exception inside the 'handler_\" + msg_type + \"' callback:\", e, e.stack, msg);\n",
       "            }\n",
       "        }\n",
       "    };\n",
       "}\n",
       "\n",
       "// from http://stackoverflow.com/questions/1114465/getting-mouse-location-in-canvas\n",
       "mpl.findpos = function(e) {\n",
       "    //this section is from http://www.quirksmode.org/js/events_properties.html\n",
       "    var targ;\n",
       "    if (!e)\n",
       "        e = window.event;\n",
       "    if (e.target)\n",
       "        targ = e.target;\n",
       "    else if (e.srcElement)\n",
       "        targ = e.srcElement;\n",
       "    if (targ.nodeType == 3) // defeat Safari bug\n",
       "        targ = targ.parentNode;\n",
       "\n",
       "    // jQuery normalizes the pageX and pageY\n",
       "    // pageX,Y are the mouse positions relative to the document\n",
       "    // offset() returns the position of the element relative to the document\n",
       "    var x = e.pageX - $(targ).offset().left;\n",
       "    var y = e.pageY - $(targ).offset().top;\n",
       "\n",
       "    return {\"x\": x, \"y\": y};\n",
       "};\n",
       "\n",
       "/*\n",
       " * return a copy of an object with only non-object keys\n",
       " * we need this to avoid circular references\n",
       " * http://stackoverflow.com/a/24161582/3208463\n",
       " */\n",
       "function simpleKeys (original) {\n",
       "  return Object.keys(original).reduce(function (obj, key) {\n",
       "    if (typeof original[key] !== 'object')\n",
       "        obj[key] = original[key]\n",
       "    return obj;\n",
       "  }, {});\n",
       "}\n",
       "\n",
       "mpl.figure.prototype.mouse_event = function(event, name) {\n",
       "    var canvas_pos = mpl.findpos(event)\n",
       "\n",
       "    if (name === 'button_press')\n",
       "    {\n",
       "        this.canvas.focus();\n",
       "        this.canvas_div.focus();\n",
       "    }\n",
       "\n",
       "    var x = canvas_pos.x * mpl.ratio;\n",
       "    var y = canvas_pos.y * mpl.ratio;\n",
       "\n",
       "    this.send_message(name, {x: x, y: y, button: event.button,\n",
       "                             step: event.step,\n",
       "                             guiEvent: simpleKeys(event)});\n",
       "\n",
       "    /* This prevents the web browser from automatically changing to\n",
       "     * the text insertion cursor when the button is pressed.  We want\n",
       "     * to control all of the cursor setting manually through the\n",
       "     * 'cursor' event from matplotlib */\n",
       "    event.preventDefault();\n",
       "    return false;\n",
       "}\n",
       "\n",
       "mpl.figure.prototype._key_event_extra = function(event, name) {\n",
       "    // Handle any extra behaviour associated with a key event\n",
       "}\n",
       "\n",
       "mpl.figure.prototype.key_event = function(event, name) {\n",
       "\n",
       "    // Prevent repeat events\n",
       "    if (name == 'key_press')\n",
       "    {\n",
       "        if (event.which === this._key)\n",
       "            return;\n",
       "        else\n",
       "            this._key = event.which;\n",
       "    }\n",
       "    if (name == 'key_release')\n",
       "        this._key = null;\n",
       "\n",
       "    var value = '';\n",
       "    if (event.ctrlKey && event.which != 17)\n",
       "        value += \"ctrl+\";\n",
       "    if (event.altKey && event.which != 18)\n",
       "        value += \"alt+\";\n",
       "    if (event.shiftKey && event.which != 16)\n",
       "        value += \"shift+\";\n",
       "\n",
       "    value += 'k';\n",
       "    value += event.which.toString();\n",
       "\n",
       "    this._key_event_extra(event, name);\n",
       "\n",
       "    this.send_message(name, {key: value,\n",
       "                             guiEvent: simpleKeys(event)});\n",
       "    return false;\n",
       "}\n",
       "\n",
       "mpl.figure.prototype.toolbar_button_onclick = function(name) {\n",
       "    if (name == 'download') {\n",
       "        this.handle_save(this, null);\n",
       "    } else {\n",
       "        this.send_message(\"toolbar_button\", {name: name});\n",
       "    }\n",
       "};\n",
       "\n",
       "mpl.figure.prototype.toolbar_button_onmouseover = function(tooltip) {\n",
       "    this.message.textContent = tooltip;\n",
       "};\n",
       "mpl.toolbar_items = [[\"Home\", \"Reset original view\", \"fa fa-home icon-home\", \"home\"], [\"Back\", \"Back to previous view\", \"fa fa-arrow-left icon-arrow-left\", \"back\"], [\"Forward\", \"Forward to next view\", \"fa fa-arrow-right icon-arrow-right\", \"forward\"], [\"\", \"\", \"\", \"\"], [\"Pan\", \"Pan axes with left mouse, zoom with right\", \"fa fa-arrows icon-move\", \"pan\"], [\"Zoom\", \"Zoom to rectangle\", \"fa fa-square-o icon-check-empty\", \"zoom\"], [\"\", \"\", \"\", \"\"], [\"Download\", \"Download plot\", \"fa fa-floppy-o icon-save\", \"download\"]];\n",
       "\n",
       "mpl.extensions = [\"eps\", \"jpeg\", \"pdf\", \"png\", \"ps\", \"raw\", \"svg\", \"tif\"];\n",
       "\n",
       "mpl.default_extension = \"png\";var comm_websocket_adapter = function(comm) {\n",
       "    // Create a \"websocket\"-like object which calls the given IPython comm\n",
       "    // object with the appropriate methods. Currently this is a non binary\n",
       "    // socket, so there is still some room for performance tuning.\n",
       "    var ws = {};\n",
       "\n",
       "    ws.close = function() {\n",
       "        comm.close()\n",
       "    };\n",
       "    ws.send = function(m) {\n",
       "        //console.log('sending', m);\n",
       "        comm.send(m);\n",
       "    };\n",
       "    // Register the callback with on_msg.\n",
       "    comm.on_msg(function(msg) {\n",
       "        //console.log('receiving', msg['content']['data'], msg);\n",
       "        // Pass the mpl event to the overridden (by mpl) onmessage function.\n",
       "        ws.onmessage(msg['content']['data'])\n",
       "    });\n",
       "    return ws;\n",
       "}\n",
       "\n",
       "mpl.mpl_figure_comm = function(comm, msg) {\n",
       "    // This is the function which gets called when the mpl process\n",
       "    // starts-up an IPython Comm through the \"matplotlib\" channel.\n",
       "\n",
       "    var id = msg.content.data.id;\n",
       "    // Get hold of the div created by the display call when the Comm\n",
       "    // socket was opened in Python.\n",
       "    var element = $(\"#\" + id);\n",
       "    var ws_proxy = comm_websocket_adapter(comm)\n",
       "\n",
       "    function ondownload(figure, format) {\n",
       "        window.open(figure.imageObj.src);\n",
       "    }\n",
       "\n",
       "    var fig = new mpl.figure(id, ws_proxy,\n",
       "                           ondownload,\n",
       "                           element.get(0));\n",
       "\n",
       "    // Call onopen now - mpl needs it, as it is assuming we've passed it a real\n",
       "    // web socket which is closed, not our websocket->open comm proxy.\n",
       "    ws_proxy.onopen();\n",
       "\n",
       "    fig.parent_element = element.get(0);\n",
       "    fig.cell_info = mpl.find_output_cell(\"<div id='\" + id + \"'></div>\");\n",
       "    if (!fig.cell_info) {\n",
       "        console.error(\"Failed to find cell for figure\", id, fig);\n",
       "        return;\n",
       "    }\n",
       "\n",
       "    var output_index = fig.cell_info[2]\n",
       "    var cell = fig.cell_info[0];\n",
       "\n",
       "};\n",
       "\n",
       "mpl.figure.prototype.handle_close = function(fig, msg) {\n",
       "    var width = fig.canvas.width/mpl.ratio\n",
       "    fig.root.unbind('remove')\n",
       "\n",
       "    // Update the output cell to use the data from the current canvas.\n",
       "    fig.push_to_output();\n",
       "    var dataURL = fig.canvas.toDataURL();\n",
       "    // Re-enable the keyboard manager in IPython - without this line, in FF,\n",
       "    // the notebook keyboard shortcuts fail.\n",
       "    IPython.keyboard_manager.enable()\n",
       "    $(fig.parent_element).html('<img src=\"' + dataURL + '\" width=\"' + width + '\">');\n",
       "    fig.close_ws(fig, msg);\n",
       "}\n",
       "\n",
       "mpl.figure.prototype.close_ws = function(fig, msg){\n",
       "    fig.send_message('closing', msg);\n",
       "    // fig.ws.close()\n",
       "}\n",
       "\n",
       "mpl.figure.prototype.push_to_output = function(remove_interactive) {\n",
       "    // Turn the data on the canvas into data in the output cell.\n",
       "    var width = this.canvas.width/mpl.ratio\n",
       "    var dataURL = this.canvas.toDataURL();\n",
       "    this.cell_info[1]['text/html'] = '<img src=\"' + dataURL + '\" width=\"' + width + '\">';\n",
       "}\n",
       "\n",
       "mpl.figure.prototype.updated_canvas_event = function() {\n",
       "    // Tell IPython that the notebook contents must change.\n",
       "    IPython.notebook.set_dirty(true);\n",
       "    this.send_message(\"ack\", {});\n",
       "    var fig = this;\n",
       "    // Wait a second, then push the new image to the DOM so\n",
       "    // that it is saved nicely (might be nice to debounce this).\n",
       "    setTimeout(function () { fig.push_to_output() }, 1000);\n",
       "}\n",
       "\n",
       "mpl.figure.prototype._init_toolbar = function() {\n",
       "    var fig = this;\n",
       "\n",
       "    var nav_element = $('<div/>');\n",
       "    nav_element.attr('style', 'width: 100%');\n",
       "    this.root.append(nav_element);\n",
       "\n",
       "    // Define a callback function for later on.\n",
       "    function toolbar_event(event) {\n",
       "        return fig.toolbar_button_onclick(event['data']);\n",
       "    }\n",
       "    function toolbar_mouse_event(event) {\n",
       "        return fig.toolbar_button_onmouseover(event['data']);\n",
       "    }\n",
       "\n",
       "    for(var toolbar_ind in mpl.toolbar_items){\n",
       "        var name = mpl.toolbar_items[toolbar_ind][0];\n",
       "        var tooltip = mpl.toolbar_items[toolbar_ind][1];\n",
       "        var image = mpl.toolbar_items[toolbar_ind][2];\n",
       "        var method_name = mpl.toolbar_items[toolbar_ind][3];\n",
       "\n",
       "        if (!name) { continue; };\n",
       "\n",
       "        var button = $('<button class=\"btn btn-default\" href=\"#\" title=\"' + name + '\"><i class=\"fa ' + image + ' fa-lg\"></i></button>');\n",
       "        button.click(method_name, toolbar_event);\n",
       "        button.mouseover(tooltip, toolbar_mouse_event);\n",
       "        nav_element.append(button);\n",
       "    }\n",
       "\n",
       "    // Add the status bar.\n",
       "    var status_bar = $('<span class=\"mpl-message\" style=\"text-align:right; float: right;\"/>');\n",
       "    nav_element.append(status_bar);\n",
       "    this.message = status_bar[0];\n",
       "\n",
       "    // Add the close button to the window.\n",
       "    var buttongrp = $('<div class=\"btn-group inline pull-right\"></div>');\n",
       "    var button = $('<button class=\"btn btn-mini btn-primary\" href=\"#\" title=\"Stop Interaction\"><i class=\"fa fa-power-off icon-remove icon-large\"></i></button>');\n",
       "    button.click(function (evt) { fig.handle_close(fig, {}); } );\n",
       "    button.mouseover('Stop Interaction', toolbar_mouse_event);\n",
       "    buttongrp.append(button);\n",
       "    var titlebar = this.root.find($('.ui-dialog-titlebar'));\n",
       "    titlebar.prepend(buttongrp);\n",
       "}\n",
       "\n",
       "mpl.figure.prototype._root_extra_style = function(el){\n",
       "    var fig = this\n",
       "    el.on(\"remove\", function(){\n",
       "\tfig.close_ws(fig, {});\n",
       "    });\n",
       "}\n",
       "\n",
       "mpl.figure.prototype._canvas_extra_style = function(el){\n",
       "    // this is important to make the div 'focusable\n",
       "    el.attr('tabindex', 0)\n",
       "    // reach out to IPython and tell the keyboard manager to turn it's self\n",
       "    // off when our div gets focus\n",
       "\n",
       "    // location in version 3\n",
       "    if (IPython.notebook.keyboard_manager) {\n",
       "        IPython.notebook.keyboard_manager.register_events(el);\n",
       "    }\n",
       "    else {\n",
       "        // location in version 2\n",
       "        IPython.keyboard_manager.register_events(el);\n",
       "    }\n",
       "\n",
       "}\n",
       "\n",
       "mpl.figure.prototype._key_event_extra = function(event, name) {\n",
       "    var manager = IPython.notebook.keyboard_manager;\n",
       "    if (!manager)\n",
       "        manager = IPython.keyboard_manager;\n",
       "\n",
       "    // Check for shift+enter\n",
       "    if (event.shiftKey && event.which == 13) {\n",
       "        this.canvas_div.blur();\n",
       "        event.shiftKey = false;\n",
       "        // Send a \"J\" for go to next cell\n",
       "        event.which = 74;\n",
       "        event.keyCode = 74;\n",
       "        manager.command_mode();\n",
       "        manager.handle_keydown(event);\n",
       "    }\n",
       "}\n",
       "\n",
       "mpl.figure.prototype.handle_save = function(fig, msg) {\n",
       "    fig.ondownload(fig, null);\n",
       "}\n",
       "\n",
       "\n",
       "mpl.find_output_cell = function(html_output) {\n",
       "    // Return the cell and output element which can be found *uniquely* in the notebook.\n",
       "    // Note - this is a bit hacky, but it is done because the \"notebook_saving.Notebook\"\n",
       "    // IPython event is triggered only after the cells have been serialised, which for\n",
       "    // our purposes (turning an active figure into a static one), is too late.\n",
       "    var cells = IPython.notebook.get_cells();\n",
       "    var ncells = cells.length;\n",
       "    for (var i=0; i<ncells; i++) {\n",
       "        var cell = cells[i];\n",
       "        if (cell.cell_type === 'code'){\n",
       "            for (var j=0; j<cell.output_area.outputs.length; j++) {\n",
       "                var data = cell.output_area.outputs[j];\n",
       "                if (data.data) {\n",
       "                    // IPython >= 3 moved mimebundle to data attribute of output\n",
       "                    data = data.data;\n",
       "                }\n",
       "                if (data['text/html'] == html_output) {\n",
       "                    return [cell, data, j];\n",
       "                }\n",
       "            }\n",
       "        }\n",
       "    }\n",
       "}\n",
       "\n",
       "// Register the function which deals with the matplotlib target/channel.\n",
       "// The kernel may be null if the page has been refreshed.\n",
       "if (IPython.notebook.kernel != null) {\n",
       "    IPython.notebook.kernel.comm_manager.register_target('matplotlib', mpl.mpl_figure_comm);\n",
       "}\n"
      ],
      "text/plain": [
       "<IPython.core.display.Javascript object>"
      ]
     },
     "metadata": {},
     "output_type": "display_data"
    },
    {
     "data": {
      "text/html": [
       "<img src=\"data:image/png;base64,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\" width=\"639.2\">"
      ],
      "text/plain": [
       "<IPython.core.display.HTML object>"
      ]
     },
     "metadata": {},
     "output_type": "display_data"
    },
    {
     "data": {
      "text/plain": [
       "(<matplotlib.axes._subplots.AxesSubplot at 0x1c23844dd0>,\n",
       " [<matplotlib.lines.Line2D at 0x1c28580a50>])"
      ]
     },
     "execution_count": 73,
     "metadata": {},
     "output_type": "execute_result"
    }
   ],
   "source": [
    "prof_651.plot()"
   ]
  },
  {
   "cell_type": "code",
   "execution_count": 74,
   "metadata": {},
   "outputs": [
    {
     "name": "stdout",
     "output_type": "stream",
     "text": [
      "* Integrated channels 162-187 (6.51 p.m. 1 keV)\n",
      "|\n",
      "* Spectrum line profile from (104, 113) to (104, 6). Integration width: 50\n",
      "|\n",
      "* Rebinned channel axis by factor 8\n",
      "|\n",
      "* Rebinned scan_x and scan_y axis by factor 2\n",
      "|\n",
      "* Sum of all frames\n",
      "|\n",
      "* Extracted dataset SpectrumStream/f5a4ba0965a5444b8c46cc420cf7fef0 from EMD file SuperX-HAADF 1913.emd\n",
      "\n"
     ]
    }
   ],
   "source": [
    "prof_651.history"
   ]
  },
  {
   "cell_type": "markdown",
   "metadata": {},
   "source": [
    "Finaly, you can export a line profile to a hyperspy dataset as with most TEMMETA objects"
   ]
  },
  {
   "cell_type": "code",
   "execution_count": 77,
   "metadata": {},
   "outputs": [],
   "source": [
    "slp_hs = slp.to_hspy()"
   ]
  },
  {
   "cell_type": "markdown",
   "metadata": {},
   "source": [
    "I hope TEMMETA will be useful for analyzing your TEM data.\n",
    "\n",
    "     - Niels Cautaerts"
   ]
  }
 ],
 "metadata": {
  "kernelspec": {
   "display_name": "Python 3",
   "language": "python",
   "name": "python3"
  },
  "language_info": {
   "codemirror_mode": {
    "name": "ipython",
    "version": 3
   },
   "file_extension": ".py",
   "mimetype": "text/x-python",
   "name": "python",
   "nbconvert_exporter": "python",
   "pygments_lexer": "ipython3",
   "version": "3.7.4"
  }
 },
 "nbformat": 4,
 "nbformat_minor": 2
}
