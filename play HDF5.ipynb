{
 "cells": [
  {
   "cell_type": "code",
   "execution_count": 25,
   "metadata": {},
   "outputs": [],
   "source": [
    "import sys\n",
    "import os\n",
    "\n",
    "import h5py\n",
    "import numpy as np\n",
    "import json\n",
    "\n",
    "filename = \"/Users/nielscautaerts/ownCloud/emdData&Reader/TestData/April2019/1520 EDS-HAADF 20190410.emd\""
   ]
  },
  {
   "cell_type": "code",
   "execution_count": 10,
   "metadata": {},
   "outputs": [],
   "source": [
    "f = h5py.File(filename, 'r')"
   ]
  },
  {
   "cell_type": "code",
   "execution_count": 22,
   "metadata": {},
   "outputs": [],
   "source": [
    "imdat = f[\"Data\"][\"Image\"]\n",
    "dets = list(imdat.keys())\n",
    "meta = imdat[dets[0]]['Metadata']"
   ]
  },
  {
   "cell_type": "code",
   "execution_count": 41,
   "metadata": {},
   "outputs": [],
   "source": [
    "meta_array = list(np.trim_zeros(meta[:,0]))\n",
    "meta_char = list(map(lambda x: chr(x), meta_array))\n",
    "meta_json = \"\".join(meta_char)\n",
    "meta_dict = json.loads(meta_json)"
   ]
  },
  {
   "cell_type": "code",
   "execution_count": 43,
   "metadata": {},
   "outputs": [
    {
     "data": {
      "text/plain": [
       "{'AcquisitionUnit': '',\n",
       " 'CompositionType': '',\n",
       " 'Detector': 'SuperXG1',\n",
       " 'PixelSize': {'width': '3.522095891625491e-011',\n",
       "  'height': '3.522095891625491e-011'},\n",
       " 'PixelUnitX': 'm',\n",
       " 'PixelUnitY': 'm',\n",
       " 'Offset': {'x': '-9.016565482561257e-009', 'y': '-9.016565482561257e-009'},\n",
       " 'Encoding': ''}"
      ]
     },
     "execution_count": 43,
     "metadata": {},
     "output_type": "execute_result"
    }
   ],
   "source": [
    "meta_dict[\"BinaryResult\"]"
   ]
  },
  {
   "cell_type": "code",
   "execution_count": 46,
   "metadata": {},
   "outputs": [],
   "source": [
    "with open(\"1520_meta_json.txt\", \"w\") as f:\n",
    "    f.write(json.dumps(meta_dict, indent=4, sort_keys=True))"
   ]
  },
  {
   "cell_type": "code",
   "execution_count": null,
   "metadata": {},
   "outputs": [],
   "source": []
  }
 ],
 "metadata": {
  "kernelspec": {
   "display_name": "Python 3",
   "language": "python",
   "name": "python3"
  },
  "language_info": {
   "codemirror_mode": {
    "name": "ipython",
    "version": 3
   },
   "file_extension": ".py",
   "mimetype": "text/x-python",
   "name": "python",
   "nbconvert_exporter": "python",
   "pygments_lexer": "ipython3",
   "version": "3.7.4"
  }
 },
 "nbformat": 4,
 "nbformat_minor": 2
}
